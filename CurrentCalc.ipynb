{
 "cells": [
  {
   "cell_type": "markdown",
   "metadata": {},
   "source": [
    "# Подсчет суммарных токов по компартментам через `Python`"
   ]
  },
  {
   "cell_type": "code",
   "execution_count": 1,
   "metadata": {
    "collapsed": false
   },
   "outputs": [
    {
     "name": "stdout",
     "output_type": "stream",
     "text": [
      "Populating the interactive namespace from numpy and matplotlib\n"
     ]
    }
   ],
   "source": [
    "%pylab inline\n",
    "style.use('ggplot')"
   ]
  },
  {
   "cell_type": "code",
   "execution_count": 2,
   "metadata": {
    "collapsed": false
   },
   "outputs": [],
   "source": [
    "from neuron import h, gui"
   ]
  },
  {
   "cell_type": "code",
   "execution_count": 3,
   "metadata": {
    "collapsed": false
   },
   "outputs": [
    {
     "data": {
      "text/plain": [
       "1.0"
      ]
     },
     "execution_count": 3,
     "metadata": {},
     "output_type": "execute_result"
    }
   ],
   "source": [
    "h.load_file('Spencerian-ab.hoc')"
   ]
  },
  {
   "cell_type": "code",
   "execution_count": 4,
   "metadata": {
    "collapsed": false
   },
   "outputs": [
    {
     "data": {
      "text/plain": [
       "0.0"
      ]
     },
     "execution_count": 4,
     "metadata": {},
     "output_type": "execute_result"
    }
   ],
   "source": [
    "h.run()"
   ]
  },
  {
   "cell_type": "markdown",
   "metadata": {},
   "source": [
    "Можно доставать суммарный К и Na токи:"
   ]
  },
  {
   "cell_type": "code",
   "execution_count": 5,
   "metadata": {
    "collapsed": false
   },
   "outputs": [
    {
     "data": {
      "text/plain": [
       "0.0029152034477829855"
      ]
     },
     "execution_count": 5,
     "metadata": {},
     "output_type": "execute_result"
    }
   ],
   "source": [
    "h.dendrites[0](0.5).ik"
   ]
  },
  {
   "cell_type": "code",
   "execution_count": 6,
   "metadata": {
    "collapsed": false
   },
   "outputs": [
    {
     "data": {
      "text/plain": [
       "True"
      ]
     },
     "execution_count": 6,
     "metadata": {},
     "output_type": "execute_result"
    }
   ],
   "source": [
    "h.soma(0.5).ik ==  h.soma(0.5).kltab.ik + h.soma(0.5).khtab.ik"
   ]
  },
  {
   "cell_type": "markdown",
   "metadata": {},
   "source": [
    "А также площадь в мкм^2 (на самом деле, это и из `hoc` можно)"
   ]
  },
  {
   "cell_type": "code",
   "execution_count": 7,
   "metadata": {
    "collapsed": false
   },
   "outputs": [],
   "source": [
    "x = h.dendrites[0](0.5)"
   ]
  },
  {
   "cell_type": "code",
   "execution_count": 8,
   "metadata": {
    "collapsed": false
   },
   "outputs": [
    {
     "data": {
      "text/plain": [
       "(23.32865831873609,)"
      ]
     },
     "execution_count": 8,
     "metadata": {},
     "output_type": "execute_result"
    }
   ],
   "source": [
    "x.area(),"
   ]
  },
  {
   "cell_type": "code",
   "execution_count": 9,
   "metadata": {
    "collapsed": false
   },
   "outputs": [
    {
     "data": {
      "text/plain": [
       "True"
      ]
     },
     "execution_count": 9,
     "metadata": {},
     "output_type": "execute_result"
    }
   ],
   "source": [
    "allclose(x.area(), pi*x.diam*h.dendrites[0].L/h.dendrites[0].nseg)"
   ]
  },
  {
   "cell_type": "code",
   "execution_count": 10,
   "metadata": {
    "collapsed": true
   },
   "outputs": [],
   "source": [
    "from collections import defaultdict"
   ]
  },
  {
   "cell_type": "code",
   "execution_count": 11,
   "metadata": {
    "collapsed": false
   },
   "outputs": [],
   "source": [
    "# TODO: во все компартменты добавить *все* токи, только ненужные токи \"выключить\",\n",
    "#       выставив gbar=0\n",
    "\n",
    "def net_dendrite_currents():\n",
    "    \"Total dendrite currents in nA\"\n",
    "    net_i = defaultdict(lambda: 0)\n",
    "\n",
    "    for i in range(int(h.Ndend)):\n",
    "        dend = h.dendrites[i]\n",
    "        for loc in dend:\n",
    "            a = loc.area()*1e-8*1e6 #конвертируем площадь в см^2 и ток в nA заодно\n",
    "            net_i['ik'] += loc.ik*a \n",
    "            net_i['ih'] += loc.ihsab.ih*a\n",
    "            net_i['ih'] += loc.hcno.ih*a  # just in case I'll want to add this\n",
    "            net_i['ileak'] += loc.i_leak*a\n",
    "    return net_i\n",
    "\n",
    "def net_soma_currents():\n",
    "    net_i = defaultdict(lambda: 0)\n",
    "    loc = h.soma(0.5)\n",
    "    a = loc.area()*1e-8*1e6 #конвертируем площадь в см^2 и ток в nA заодно\n",
    "    net_i['ik'] += loc.ik*a # все К токи\n",
    "    net_i['ina'] += loc.ina*a\n",
    "    net_i['ih'] += loc.ihsab.ih*a\n",
    "    net_i['ih'] += loc.hcno.ih*a\n",
    "    net_i['ileak'] += loc.i_leak*a\n",
    "    return net_i\n",
    "\n",
    "def net_axon_currents():\n",
    "    net_i = defaultdict(lambda: 0)\n",
    "    for comp in (h.ax_init, h.ax_stub):\n",
    "        for loc in comp:\n",
    "            a = loc.area()*1e-8*1e6 #конвертируем площадь в см^2 и ток в nA заодно\n",
    "            #net_i['ik'] += loc.ik*a # все К токи\n",
    "            #net_i['ih'] += loc.ihsab.ih*a\n",
    "            #net_i['ih'] += loc.hcno.ih*a\n",
    "            net_i['ileak'] += loc.i_leak*a\n",
    "            net_i['ina'] += loc.ina*a\n",
    "    return net_i"
   ]
  },
  {
   "cell_type": "code",
   "execution_count": 12,
   "metadata": {
    "collapsed": false
   },
   "outputs": [],
   "source": [
    "di = net_dendrite_currents()\n",
    "si = net_soma_currents()\n",
    "ai = net_axon_currents()"
   ]
  },
  {
   "cell_type": "code",
   "execution_count": 13,
   "metadata": {
    "collapsed": false
   },
   "outputs": [
    {
     "name": "stdout",
     "output_type": "stream",
     "text": [
      "defaultdict(<function <lambda> at 0x7f53460c9140>, {'ih': -0.41540706631225116, 'ik': 0.2764096723748255, 'ileak': 0.2270436210049071}) defaultdict(<function <lambda> at 0x7f53460c9050>, {'ih': -1.0618298082554412, 'ik': 0.9075170983290506, 'ina': 0.0, 'ileak': 0.05613426969447634}) defaultdict(<function <lambda> at 0x7f5374228c08>, {'ileak': 0.010602679603654252, 'ina': -0.0004955310161020326})\n"
     ]
    }
   ],
   "source": [
    "print di, si, ai"
   ]
  },
  {
   "cell_type": "code",
   "execution_count": 14,
   "metadata": {
    "collapsed": false
   },
   "outputs": [],
   "source": [
    "curs = ['ik','ina', 'ileak', 'ih']\n",
    "totals = [[s[c] for c in curs] for s in [di,si,ai]]"
   ]
  },
  {
   "cell_type": "code",
   "execution_count": 15,
   "metadata": {
    "collapsed": false
   },
   "outputs": [
    {
     "name": "stdout",
     "output_type": "stream",
     "text": [
      "[[0.2764096723748255, 0, 0.2270436210049071, -0.41540706631225116], [0.9075170983290506, 0.0, 0.05613426969447634, -1.0618298082554412], [0, -0.0004955310161020326, 0.010602679603654252, 0]]\n",
      "Сумма: -2.50645768805e-05\n"
     ]
    }
   ],
   "source": [
    "print totals\n",
    "print u\"Сумма:\", sum(totals)"
   ]
  },
  {
   "cell_type": "markdown",
   "metadata": {},
   "source": [
    "=> В стационарном состоянии сумма всех токов близка к нулю."
   ]
  },
  {
   "cell_type": "code",
   "execution_count": null,
   "metadata": {
    "collapsed": true
   },
   "outputs": [],
   "source": []
  }
 ],
 "metadata": {
  "kernelspec": {
   "display_name": "Python 2",
   "language": "python",
   "name": "python2"
  },
  "language_info": {
   "codemirror_mode": {
    "name": "ipython",
    "version": 2
   },
   "file_extension": ".py",
   "mimetype": "text/x-python",
   "name": "python",
   "nbconvert_exporter": "python",
   "pygments_lexer": "ipython2",
   "version": "2.7.11"
  }
 },
 "nbformat": 4,
 "nbformat_minor": 0
}
