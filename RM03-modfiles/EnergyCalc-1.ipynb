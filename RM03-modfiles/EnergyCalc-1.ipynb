{
 "cells": [
  {
   "cell_type": "code",
   "execution_count": 1,
   "metadata": {
    "collapsed": false
   },
   "outputs": [
    {
     "name": "stdout",
     "output_type": "stream",
     "text": [
      "Populating the interactive namespace from numpy and matplotlib\n"
     ]
    }
   ],
   "source": [
    "%pylab inline\n",
    "style.use('ggplot')"
   ]
  },
  {
   "cell_type": "code",
   "execution_count": 2,
   "metadata": {
    "collapsed": false
   },
   "outputs": [],
   "source": [
    "from neuron import h, gui"
   ]
  },
  {
   "cell_type": "code",
   "execution_count": 16,
   "metadata": {
    "collapsed": false
   },
   "outputs": [
    {
     "data": {
      "text/plain": [
       "0.0"
      ]
     },
     "execution_count": 16,
     "metadata": {},
     "output_type": "execute_result"
    }
   ],
   "source": [
    "h.cvode_active(0)"
   ]
  },
  {
   "cell_type": "markdown",
   "metadata": {},
   "source": [
    "# Using original RM03 model and interface to NEURON"
   ]
  },
  {
   "cell_type": "code",
   "execution_count": 17,
   "metadata": {
    "collapsed": false
   },
   "outputs": [
    {
     "name": "stdout",
     "output_type": "stream",
     "text": [
      "Soma area: 1.20e-05 cm^2, diameter: 19.54 um\n"
     ]
    }
   ],
   "source": [
    "total_capacitance = 12 # pF\n",
    "\n",
    "soma_area = total_capacitance * 1e-6 / 1 # pF -> uF, 1 uF/cm^2\n",
    "soma_diam = 1e4*sqrt(soma_area/pi) # cm->um\n",
    "\n",
    "print 'Soma area: %02.2e cm^2, diameter: %02.2f um'%(soma_area,soma_diam)\n",
    "# Isn't it a bit too large a diameter? -> No, it's OK\n"
   ]
  },
  {
   "cell_type": "code",
   "execution_count": 18,
   "metadata": {
    "collapsed": false
   },
   "outputs": [],
   "source": [
    "currents = ['klt', 'kht', 'na', 'ka', 'ih', 'hcno', 'leak']"
   ]
  },
  {
   "cell_type": "code",
   "execution_count": 19,
   "metadata": {
    "collapsed": true
   },
   "outputs": [],
   "source": [
    "def ns_to_mhocm2(x):\n",
    "    \"Convert from nanosiemens to siemens/cm^2\"\n",
    "    return 1e-9*x/soma_area"
   ]
  },
  {
   "cell_type": "code",
   "execution_count": 20,
   "metadata": {
    "collapsed": false
   },
   "outputs": [
    {
     "data": {
      "text/plain": [
       "{'Vm0': -63.6,\n",
       " 'gabar': 0.0,\n",
       " 'ghbar': 0.0016666666666666666,\n",
       " 'gkhtbar': 0.0125,\n",
       " 'gkltbar': 0.016666666666666666,\n",
       " 'glk': 0,\n",
       " 'gnabar': 0.08333333333333334}"
      ]
     },
     "execution_count": 20,
     "metadata": {},
     "output_type": "execute_result"
    }
   ],
   "source": [
    "\n",
    "typeII = {cond:ns_to_mhocm2(val) for cond, val in \n",
    " [('gnabar',1000), ('gkhtbar',150), ('gkltbar', 200),\n",
    "  ('gabar', 0),  ('ghbar', 20),   ('glk', 2), ]}\n",
    "\n",
    "typeII['glk'] = 0\n",
    "typeII['Vm0'] = -63.6\n",
    "# in S/cm^2\n",
    "typeII"
   ]
  },
  {
   "cell_type": "code",
   "execution_count": 21,
   "metadata": {
    "collapsed": false
   },
   "outputs": [],
   "source": [
    "bushy = h.Section(name='bushy') \n",
    "bushy.nseg=1\n",
    "bushy.diam = soma_diam\n",
    "bushy.L = soma_diam\n",
    "bushy.Ra = 150\n",
    "bushy.cm = 1"
   ]
  },
  {
   "cell_type": "code",
   "execution_count": 22,
   "metadata": {
    "collapsed": false
   },
   "outputs": [],
   "source": [
    "for cur in currents:\n",
    "    bushy.insert(cur)"
   ]
  },
  {
   "cell_type": "code",
   "execution_count": 23,
   "metadata": {
    "collapsed": false
   },
   "outputs": [],
   "source": [
    "bushy.ek = -70\n",
    "bushy.ena = 50\n",
    "bushy.gbar_hcno = 0\n",
    "\n",
    "bushy.gnabar_na = typeII['gnabar']\n",
    "bushy.gkhtbar_kht = typeII['gkhtbar']\n",
    "bushy.gkltbar_klt = typeII['gkltbar']\n",
    "bushy.gkabar_ka = typeII['gabar']\n",
    "bushy.ghbar_ih = typeII['ghbar']\n",
    "bushy.g_leak = typeII['glk']"
   ]
  },
  {
   "cell_type": "code",
   "execution_count": 24,
   "metadata": {
    "collapsed": false
   },
   "outputs": [
    {
     "data": {
      "text/plain": [
       "1.0"
      ]
     },
     "execution_count": 24,
     "metadata": {},
     "output_type": "execute_result"
    }
   ],
   "source": [
    "h.psection(bushy)"
   ]
  },
  {
   "cell_type": "code",
   "execution_count": 25,
   "metadata": {
    "collapsed": false
   },
   "outputs": [
    {
     "data": {
      "text/plain": [
       "1.0"
      ]
     },
     "execution_count": 25,
     "metadata": {},
     "output_type": "execute_result"
    }
   ],
   "source": [
    "v_vec = h.Vector()             # Membrane potential vector\n",
    "t_vec = h.Vector()             # Time stamp vector\n",
    "v_vec.record(bushy(0.5)._ref_v)\n",
    "t_vec.record(h._ref_t)\n"
   ]
  },
  {
   "cell_type": "code",
   "execution_count": 26,
   "metadata": {
    "collapsed": false
   },
   "outputs": [],
   "source": [
    "h.v_init = typeII['Vm0']"
   ]
  },
  {
   "cell_type": "code",
   "execution_count": 27,
   "metadata": {
    "collapsed": true
   },
   "outputs": [],
   "source": [
    "h.tstop = 2000"
   ]
  },
  {
   "cell_type": "code",
   "execution_count": 28,
   "metadata": {
    "collapsed": false
   },
   "outputs": [
    {
     "data": {
      "text/plain": [
       "0.0"
      ]
     },
     "execution_count": 28,
     "metadata": {},
     "output_type": "execute_result"
    }
   ],
   "source": [
    "h.run()"
   ]
  },
  {
   "cell_type": "code",
   "execution_count": 108,
   "metadata": {
    "collapsed": false
   },
   "outputs": [
    {
     "data": {
      "text/plain": [
       "(-70, -50)"
      ]
     },
     "execution_count": 108,
     "metadata": {},
     "output_type": "execute_result"
    },
    {
     "data": {
      "image/png": "[encoded data removed]",
      "text/plain": [
       "<matplotlib.figure.Figure at 0x7f42154f3a10>"
      ]
     },
     "metadata": {},
     "output_type": "display_data"
    }
   ],
   "source": [
    "plot(t_vec, v_vec);\n",
    "ylim(-70,-50)"
   ]
  },
  {
   "cell_type": "code",
   "execution_count": 30,
   "metadata": {
    "collapsed": false
   },
   "outputs": [
    {
     "data": {
      "text/plain": [
       "-63.518161789521216"
      ]
     },
     "execution_count": 30,
     "metadata": {},
     "output_type": "execute_result"
    }
   ],
   "source": [
    "bushy.v"
   ]
  },
  {
   "cell_type": "code",
   "execution_count": 31,
   "metadata": {
    "collapsed": true
   },
   "outputs": [],
   "source": [
    "seg = bushy(0.5)"
   ]
  },
  {
   "cell_type": "code",
   "execution_count": 32,
   "metadata": {
    "collapsed": false
   },
   "outputs": [
    {
     "data": {
      "text/plain": [
       "-0.0010594020405146315"
      ]
     },
     "execution_count": 32,
     "metadata": {},
     "output_type": "execute_result"
    }
   ],
   "source": [
    "seg.ih.i*0.2 + seg.ina"
   ]
  },
  {
   "cell_type": "code",
   "execution_count": 33,
   "metadata": {
    "collapsed": false
   },
   "outputs": [
    {
     "data": {
      "text/plain": [
       "0.0010594059638932415"
      ]
     },
     "execution_count": 33,
     "metadata": {},
     "output_type": "execute_result"
    }
   ],
   "source": [
    "seg.ih.i*0.8 + seg.ik"
   ]
  },
  {
   "cell_type": "code",
   "execution_count": null,
   "metadata": {
    "collapsed": true
   },
   "outputs": [],
   "source": []
  },
  {
   "cell_type": "code",
   "execution_count": 34,
   "metadata": {
    "collapsed": false
   },
   "outputs": [
    {
     "name": "stdout",
     "output_type": "stream",
     "text": [
      "71.0 in cit., in model: 81.9637138282 MOhm\n"
     ]
    }
   ],
   "source": [
    "gnar = seg.ina/(seg.v-seg.ena)  # Siemens/cm^2\n",
    "gkr = seg.ik/(seg.v-seg.ek)\n",
    "ghr = seg.i_ih/(seg.v- -43)\n",
    "glkr = seg.leak.i/(seg.v -seg.erev_leak)\n",
    "\n",
    "\n",
    "Rin_t2 = 71.0 # From Rothman and Manis 2003\n",
    "\n",
    "# From model:\n",
    "Ginx = (gnar + gkr + ghr + glkr)* seg.area()*1e-8\n",
    "Rin_t2x = 1e-6/Ginx \n",
    "\n",
    "print Rin_t2, 'in cit., in model:', Rin_t2x, 'MOhm'"
   ]
  },
  {
   "cell_type": "code",
   "execution_count": 35,
   "metadata": {
    "collapsed": true
   },
   "outputs": [],
   "source": [
    "R = 8314.4  # Universal gaz constant, mJ / mole*K\n",
    "F = 96485   # Faraday constant [C/mol]\n",
    "F_ATP = 50 # kJ/mol\n",
    "\n",
    "avogadro = 6.022e23 # N_a"
   ]
  },
  {
   "cell_type": "code",
   "execution_count": 36,
   "metadata": {
    "collapsed": false
   },
   "outputs": [],
   "source": [
    "def ratp_atwell(V, Rin, Ena = 50, Ek = -70):\n",
    "    \"returns resting ATP consumption rate in pmol ATP/s\"\n",
    "    # I take Rm in MOhms and V in mV\n",
    "    # Thus, result is in nmole/sec\n",
    "    out = (Ena-V)*(V-Ek)/(F*Rin*(V + 2*Ena - 3*Ek))\n",
    "    return out*1e3 # nmol -> pmol\n",
    "\n",
    "def pmol2molecules(x):\n",
    "    return x*1e-12*avogadro\n",
    "\n",
    "def atp2J(nATP):\n",
    "    \"Convert pmol ATP/s to energy usage in pJoule/s\"\n",
    "    return F_ATP * nATP * 1e3\n",
    "    pas\n",
    "\n",
    "def nJ2atp(nJ):\n",
    "    \"convert from nJoule/s to nmol ATP/s\"\n",
    "    return (nJ/F_ATP)*1e-3"
   ]
  },
  {
   "cell_type": "markdown",
   "metadata": {},
   "source": [
    "## Оценка затрат в покое по Attwell и по Moujahid&D'Anjou"
   ]
  },
  {
   "cell_type": "code",
   "execution_count": 37,
   "metadata": {
    "collapsed": false
   },
   "outputs": [
    {
     "name": "stdout",
     "output_type": "stream",
     "text": [
      "Оценка по Attwell: 3.775e-04 pmol ATP/сек\n",
      "                 : 1.887e+01 pJ/s\n"
     ]
    }
   ],
   "source": [
    "rATP_bushy  = ratp_atwell(bushy.v, Rin_t2x, Ek=-70)\n",
    "\n",
    "print\\\n",
    "\"\"\"Оценка по Attwell: {:.3e} pmol ATP/сек\n",
    "                 : {:.3e} pJ/s\"\"\".format(rATP_bushy, atp2J(rATP_bushy))"
   ]
  },
  {
   "cell_type": "code",
   "execution_count": 179,
   "metadata": {
    "collapsed": false
   },
   "outputs": [],
   "source": [
    "def mouj_Erate(seg, Iap=0, erev_ih = -43):\n",
    "    v = seg.v\n",
    "    acc = Iap*v\n",
    "    acc += seg.ina*(v-seg.ena) \n",
    "    acc += seg.ik*(v-seg.ek)\n",
    "    acc += seg.i_leak*(v-seg.erev_leak)\n",
    "    acc += seg.ih.i*(v-erev_ih)\n",
    "    factor = (1e-8) # um^2 -> cm^2\n",
    "    factor *= (1e6) #-> pJ/s\n",
    "    return acc*seg.area()*factor\n",
    "\n",
    "def hasegawa_Erate(seg, Iap=0,erev_ih = -43):\n",
    "    v = seg.v\n",
    "    acc = Iap*v\n",
    "    acc -= seg.ina*seg.ena \n",
    "    acc -= seg.ik*seg.ek\n",
    "    acc -= seg.i_leak*seg.erev_leak\n",
    "    acc -= seg.ih.i*erev_ih\n",
    "    factor = (1e-8) # um^2 -> cm^2\n",
    "    factor *= (1e6) #-> pJ/s\n",
    "    return acc*seg.area()*factor"
   ]
  },
  {
   "cell_type": "code",
   "execution_count": 39,
   "metadata": {
    "collapsed": false
   },
   "outputs": [],
   "source": [
    "dH_bushy2 = mouj_Erate(bushy(0.5))\n",
    "dH_bushy3 = hasegawa_Erate(bushy(0.5))\n",
    "\n",
    "rATP_bushy2 = nJ2atp(dH_bushy2)\n",
    "rATP_bushy3 = nJ2atp(dH_bushy3)"
   ]
  },
  {
   "cell_type": "code",
   "execution_count": 40,
   "metadata": {
    "collapsed": false
   },
   "outputs": [
    {
     "name": "stdout",
     "output_type": "stream",
     "text": [
      "Оценка по Moujahid & D'Anjou: 3.408e-05 pmole ATP/сек\n",
      "                            : 1.704e+00 pJ/s\n"
     ]
    }
   ],
   "source": [
    "print\\\n",
    "\"\"\"Оценка по Moujahid & D'Anjou: {:.3e} pmole ATP/сек\n",
    "                            : {:.3e} pJ/s\"\"\".format(rATP_bushy2, dH_bushy2)"
   ]
  },
  {
   "cell_type": "code",
   "execution_count": 41,
   "metadata": {
    "collapsed": false
   },
   "outputs": [
    {
     "name": "stdout",
     "output_type": "stream",
     "text": [
      "Оценка по Hasegawa: 3.408e-05 pmole ATP/сек\n",
      "                  : 1.704e+00 pJ/s\n"
     ]
    }
   ],
   "source": [
    "print\\\n",
    "\"\"\"Оценка по Hasegawa: {:.3e} pmole ATP/сек\n",
    "                  : {:.3e} pJ/s\"\"\".format(rATP_bushy3, dH_bushy3)"
   ]
  },
  {
   "cell_type": "markdown",
   "metadata": {},
   "source": [
    "Attwell to Moujahid ratio:"
   ]
  },
  {
   "cell_type": "code",
   "execution_count": 42,
   "metadata": {
    "collapsed": false
   },
   "outputs": [
    {
     "data": {
      "text/plain": [
       "11.077424614117765"
      ]
     },
     "execution_count": 42,
     "metadata": {},
     "output_type": "execute_result"
    }
   ],
   "source": [
    "rATP_bushy/rATP_bushy2"
   ]
  },
  {
   "cell_type": "code",
   "execution_count": 60,
   "metadata": {
    "collapsed": true
   },
   "outputs": [],
   "source": [
    "def split_ih(seg, gratio=4, eh=-43):\n",
    "    \"splits ih to Na and K components (crude)\"\n",
    "    v = seg.v\n",
    "    gnah = seg.ih.i/(v*(gratio+1) - gratio*seg.ek - seg.ena)\n",
    "    inah = gnah*(v-seg.ena)\n",
    "    ikh = gratio*gnah*(v-seg.ek)\n",
    "    return inah, ikh"
   ]
  },
  {
   "cell_type": "code",
   "execution_count": 66,
   "metadata": {
    "collapsed": false
   },
   "outputs": [
    {
     "name": "stdout",
     "output_type": "stream",
     "text": [
      "-0.00263850986448 0.00211646624823\n",
      "True\n",
      "2.035e-04 pmol ATP/s [from jNa]\n",
      "5.487437e-03 pmol ATP/s [from jK]\n"
     ]
    }
   ],
   "source": [
    "inah, ikh = split_ih(seg)\n",
    "print inah, ikh\n",
    "\n",
    "jk = (bushy.ik + ikh)*soma_area/F # mmol/s\n",
    "jna = (bushy.ina + inah)*soma_area/F\n",
    "\n",
    "## В текущей модели, получается, что jk=jna, что сложно совместимо\n",
    "## со стехиометрией Na,K-АТФ-азы\n",
    "\n",
    "print allclose(jk,jna)\n",
    "\n",
    "jatp_na = -jna/3\n",
    "jatp_k = jk/2\n",
    "\n",
    "\n",
    "print '%0.3e'%(jatp_na*1e9), 'pmol ATP/s [from jNa]'\n",
    "print '%03e'%(jatp_k*1e9), 'pmol ATP/s [from jK]'"
   ]
  },
  {
   "cell_type": "markdown",
   "metadata": {},
   "source": [
    "А это близко к тому, что дает оценка по  Attwell (хотя бы по порядку величин)..."
   ]
  },
  {
   "cell_type": "markdown",
   "metadata": {
    "collapsed": false
   },
   "source": [
    "**Можем ли мы найти такой ток, при котором iNa:iK = 3:2 в стационарном состоянии?** -> Это будет током ipump"
   ]
  },
  {
   "cell_type": "code",
   "execution_count": 67,
   "metadata": {
    "collapsed": true
   },
   "outputs": [],
   "source": [
    "istim = h.IClamp(bushy(0.5))"
   ]
  },
  {
   "cell_type": "code",
   "execution_count": 72,
   "metadata": {
    "collapsed": false
   },
   "outputs": [],
   "source": [
    "istim.delay = 0.01\n",
    "istim.dur = 10000\n",
    "amps = linspace(-1,1,10)\n",
    "amps = concatenate([amps, linspace(-0.25,0.25,100)])\n",
    "amps = sorted(amps)\n",
    "cur_ratio = []\n",
    "vrest = []\n",
    "h.tstop = 2000\n",
    "for amp in amps:\n",
    "    istim.amp = amp\n",
    "    h.run()\n",
    "    inah,ikh = split_ih(seg)\n",
    "    ina = (bushy.ina + inah)\n",
    "    ik = (bushy.ik + ikh)\n",
    "    vrest.append(seg.v)\n",
    "    cur_ratio.append(ina/ik)"
   ]
  },
  {
   "cell_type": "code",
   "execution_count": 77,
   "metadata": {
    "collapsed": false
   },
   "outputs": [
    {
     "data": {
      "text/plain": [
       "(-1, 1)"
      ]
     },
     "execution_count": 77,
     "metadata": {},
     "output_type": "execute_result"
    },
    {
     "data": {
      "image/png": "[encoded data removed]",
      "text/plain": [
       "<matplotlib.figure.Figure at 0x7f421597fc50>"
      ]
     },
     "metadata": {},
     "output_type": "display_data"
    }
   ],
   "source": [
    "f, axs = subplots(2,1,sharex=True,figsize=(10,10))\n",
    "axs[0].plot(amps, -array(cur_ratio))\n",
    "setp(axs[0], ylim=(-5,5))\n",
    "ylabel('iNa:iK')\n",
    "axs[1].plot(amps, vrest)\n",
    "axs[1].axhline(-70, color='m')\n",
    "xlabel('I stim, nA')\n",
    "xlim(-1,1)\n"
   ]
  },
  {
   "cell_type": "code",
   "execution_count": 86,
   "metadata": {
    "collapsed": false
   },
   "outputs": [
    {
     "data": {
      "text/plain": [
       "-0.12373737373737373"
      ]
     },
     "execution_count": 86,
     "metadata": {},
     "output_type": "execute_result"
    }
   ],
   "source": [
    "Icut= amps[argmin((array(vrest)+70)**2)]\n",
    "Icut"
   ]
  },
  {
   "cell_type": "code",
   "execution_count": 131,
   "metadata": {
    "collapsed": false
   },
   "outputs": [],
   "source": [
    "istim.delay = 0.01\n",
    "istim.dur = 20000\n",
    "#amps = linspace(-1,1,10)\n",
    "amps = linspace(-0.04, -0.01, 10)\n",
    "amps = sorted(amps)\n",
    "cur_ratio = []\n",
    "vrest = []\n",
    "h.tstop = 10000\n",
    "for amp in amps:\n",
    "    istim.amp = amp\n",
    "    h.run()\n",
    "    inah,ikh = split_ih(seg)\n",
    "    ina = (bushy.ina + inah)\n",
    "    ik = (bushy.ik + ikh)\n",
    "    vrest.append(seg.v)\n",
    "    cur_ratio.append(ina/ik)"
   ]
  },
  {
   "cell_type": "code",
   "execution_count": 141,
   "metadata": {
    "collapsed": false
   },
   "outputs": [
    {
     "data": {
      "text/plain": [
       "<matplotlib.text.Text at 0x7f4213c8f990>"
      ]
     },
     "execution_count": 141,
     "metadata": {},
     "output_type": "execute_result"
    },
    {
     "data": {
      "image/png": "[encoded data removed]",
      "text/plain": [
       "<matplotlib.figure.Figure at 0x7f4213ec30d0>"
      ]
     },
     "metadata": {},
     "output_type": "display_data"
    }
   ],
   "source": [
    "f, axs = subplots(2,1,sharex=True,figsize=(10,10))\n",
    "axs[0].plot(amps, -array(cur_ratio))\n",
    "setp(axs[0],  ylabel='iNa:iK')\n",
    "axs[1].plot(amps, vrest)\n",
    "axs[1].axhline(-70, color='m')\n",
    "xlabel('I stim, nA')"
   ]
  },
  {
   "cell_type": "code",
   "execution_count": 142,
   "metadata": {
    "collapsed": false
   },
   "outputs": [
    {
     "name": "stdout",
     "output_type": "stream",
     "text": [
      "-0.03\n"
     ]
    },
    {
     "data": {
      "image/png": "[encoded data removed]",
      "text/plain": [
       "<matplotlib.figure.Figure at 0x7f4213bd9690>"
      ]
     },
     "metadata": {},
     "output_type": "display_data"
    }
   ],
   "source": [
    "cr = -array(cur_ratio)\n",
    "score = (cr-1.5)**2\n",
    "plot(amps, log(score))\n",
    "axvline(amps[argmin(score)])\n",
    "ylim(-10,0)\n",
    "xlim(-0.06, 0)\n",
    "print amps[argmin(score)]"
   ]
  },
  {
   "cell_type": "markdown",
   "metadata": {},
   "source": [
    "Ipump получился 0.03 nA"
   ]
  },
  {
   "cell_type": "code",
   "execution_count": 148,
   "metadata": {
    "collapsed": false
   },
   "outputs": [
    {
     "data": {
      "text/plain": [
       "-0.030000000000000002"
      ]
     },
     "execution_count": 148,
     "metadata": {},
     "output_type": "execute_result"
    }
   ],
   "source": [
    "ip = amps[argmin(score)]\n",
    "ip"
   ]
  },
  {
   "cell_type": "code",
   "execution_count": 144,
   "metadata": {
    "collapsed": false
   },
   "outputs": [
    {
     "data": {
      "text/plain": [
       "('New estimate: 3.109e-04', 'pmole ATP/s')"
      ]
     },
     "execution_count": 144,
     "metadata": {},
     "output_type": "execute_result"
    }
   ],
   "source": [
    "'New estimate: %.3e'%((-ip/F)*1e3), 'pmole ATP/s'"
   ]
  },
  {
   "cell_type": "code",
   "execution_count": 168,
   "metadata": {
    "collapsed": false
   },
   "outputs": [
    {
     "data": {
      "text/plain": [
       "-0.030000000000000002"
      ]
     },
     "execution_count": 168,
     "metadata": {},
     "output_type": "execute_result"
    }
   ],
   "source": [
    "ip"
   ]
  },
  {
   "cell_type": "code",
   "execution_count": 169,
   "metadata": {
    "collapsed": false
   },
   "outputs": [
    {
     "data": {
      "text/plain": [
       "0.0"
      ]
     },
     "execution_count": 169,
     "metadata": {},
     "output_type": "execute_result"
    }
   ],
   "source": [
    "istim.amp = ip\n",
    "h.v_init=-60\n",
    "h.tstop=10000\n",
    "h.dt = 0.025\n",
    "\n",
    "\n",
    "h.run()"
   ]
  },
  {
   "cell_type": "code",
   "execution_count": 170,
   "metadata": {
    "collapsed": false
   },
   "outputs": [
    {
     "name": "stdout",
     "output_type": "stream",
     "text": [
      "-64.6818354261\n",
      "Current ratio: 1.51464790028\n",
      "Sum current: -0.00250000870656\n"
     ]
    }
   ],
   "source": [
    "print seg.v\n",
    "\n",
    "inah, ikh = split_ih(seg)\n",
    "\n",
    "print 'Current ratio:', -(inah + bushy.ina) / (ikh + bushy.ik)\n",
    "print 'Sum current:', (inah + bushy.ina) + (ikh+bushy.ik)"
   ]
  },
  {
   "cell_type": "code",
   "execution_count": 175,
   "metadata": {
    "collapsed": false
   },
   "outputs": [],
   "source": [
    "ipumpx = -(inah + bushy.ina)*soma_area/(F*3)"
   ]
  },
  {
   "cell_type": "code",
   "execution_count": 147,
   "metadata": {
    "collapsed": false
   },
   "outputs": [
    {
     "data": {
      "text/plain": [
       "[<matplotlib.lines.Line2D at 0x7f4213a43c90>]"
      ]
     },
     "execution_count": 147,
     "metadata": {},
     "output_type": "execute_result"
    },
    {
     "data": {
      "image/png": "[encoded data removed]",
      "text/plain": [
       "<matplotlib.figure.Figure at 0x7f4213d66890>"
      ]
     },
     "metadata": {},
     "output_type": "display_data"
    }
   ],
   "source": [
    "plot(t_vec, v_vec)"
   ]
  },
  {
   "cell_type": "markdown",
   "metadata": {},
   "source": [
    "**Note** Только за эти времена токи уже устаканиваются, поэтому долго считать. Надо что ли алгебраически вывести..."
   ]
  },
  {
   "cell_type": "code",
   "execution_count": 180,
   "metadata": {
    "collapsed": true
   },
   "outputs": [],
   "source": [
    "dH_bushy2 = mouj_Erate(bushy(0.5),ip)\n",
    "dH_bushy3 = hasegawa_Erate(bushy(0.5),ip)\n",
    "\n",
    "rATP_bushy2 = nJ2atp(dH_bushy2)\n",
    "rATP_bushy3 = nJ2atp(dH_bushy3)"
   ]
  },
  {
   "cell_type": "code",
   "execution_count": 181,
   "metadata": {
    "collapsed": false
   },
   "outputs": [
    {
     "name": "stdout",
     "output_type": "stream",
     "text": [
      "Оценка по Moujahid & D'Anjou: 5.025e-04 pmole ATP/сек\n",
      "                            : 2.512e+01 pJ/s\n"
     ]
    }
   ],
   "source": [
    "print\\\n",
    "\"\"\"Оценка по Moujahid & D'Anjou: {:.3e} pmole ATP/сек\n",
    "                            : {:.3e} pJ/s\"\"\".format(rATP_bushy2, dH_bushy2)"
   ]
  },
  {
   "cell_type": "code",
   "execution_count": 182,
   "metadata": {
    "collapsed": false
   },
   "outputs": [
    {
     "name": "stdout",
     "output_type": "stream",
     "text": [
      "Оценка по Hasegawa: 4.637e-04 pmole ATP/сек\n",
      "                  : 2.318e+01 pJ/s\n"
     ]
    }
   ],
   "source": [
    "print\\\n",
    "\"\"\"Оценка по Hasegawa: {:.3e} pmole ATP/сек\n",
    "                  : {:.3e} pJ/s\"\"\".format(rATP_bushy3, dH_bushy3)"
   ]
  },
  {
   "cell_type": "code",
   "execution_count": 183,
   "metadata": {
    "collapsed": false
   },
   "outputs": [
    {
     "name": "stdout",
     "output_type": "stream",
     "text": [
      "Новая оценка по Attwell: -3.050e-04 pmol ATP/s\n"
     ]
    }
   ],
   "source": [
    "print 'Новая оценка по Attwell: %.3e'%((-ipumpx*1e9)), 'pmol ATP/s'"
   ]
  },
  {
   "cell_type": "code",
   "execution_count": null,
   "metadata": {
    "collapsed": true
   },
   "outputs": [],
   "source": []
  }
 ],
 "metadata": {
  "kernelspec": {
   "display_name": "Python 2",
   "language": "python",
   "name": "python2"
  },
  "language_info": {
   "codemirror_mode": {
    "name": "ipython",
    "version": 2
   },
   "file_extension": ".py",
   "mimetype": "text/x-python",
   "name": "python",
   "nbconvert_exporter": "python",
   "pygments_lexer": "ipython2",
   "version": "2.7.11"
  }
 },
 "nbformat": 4,
 "nbformat_minor": 0
}
