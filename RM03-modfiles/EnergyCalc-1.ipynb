{
 "cells": [
  {
   "cell_type": "code",
   "execution_count": 1,
   "metadata": {
    "collapsed": false
   },
   "outputs": [
    {
     "name": "stdout",
     "output_type": "stream",
     "text": [
      "Populating the interactive namespace from numpy and matplotlib\n"
     ]
    }
   ],
   "source": [
    "%pylab inline\n",
    "style.use('ggplot')"
   ]
  },
  {
   "cell_type": "code",
   "execution_count": 2,
   "metadata": {
    "collapsed": false
   },
   "outputs": [],
   "source": [
    "from neuron import h, gui"
   ]
  },
  {
   "cell_type": "markdown",
   "metadata": {},
   "source": [
    "// CVODE не работает с оригинальными файлами из (Rothman and Manis 2003)"
   ]
  },
  {
   "cell_type": "code",
   "execution_count": 3,
   "metadata": {
    "collapsed": false
   },
   "outputs": [
    {
     "data": {
      "text/plain": [
       "0.0"
      ]
     },
     "execution_count": 3,
     "metadata": {},
     "output_type": "execute_result"
    }
   ],
   "source": [
    "h.cvode_active(0)"
   ]
  },
  {
   "cell_type": "markdown",
   "metadata": {},
   "source": [
    "# Using original RM03 model and interface to NEURON"
   ]
  },
  {
   "cell_type": "code",
   "execution_count": 3,
   "metadata": {
    "collapsed": false
   },
   "outputs": [
    {
     "name": "stdout",
     "output_type": "stream",
     "text": [
      "Soma area: 1.20e-05 cm^2, diameter: 19.54 um\n"
     ]
    }
   ],
   "source": [
    "total_capacitance = 12 # pF\n",
    "\n",
    "soma_area = total_capacitance * 1e-6 / 1 # pF -> uF, 1 uF/cm^2\n",
    "soma_diam = 1e4*sqrt(soma_area/pi) # cm->um\n",
    "\n",
    "print 'Soma area: %02.2e cm^2, diameter: %02.2f um'%(soma_area,soma_diam)\n",
    "# Isn't it a bit too large a diameter? -> No, it's OK\n"
   ]
  },
  {
   "cell_type": "code",
   "execution_count": 4,
   "metadata": {
    "collapsed": false
   },
   "outputs": [],
   "source": [
    "currents = ['klt', 'kht', 'na', 'ka', 'ih', 'hcno', 'leak']"
   ]
  },
  {
   "cell_type": "code",
   "execution_count": 5,
   "metadata": {
    "collapsed": true
   },
   "outputs": [],
   "source": [
    "def ns_to_mhocm2(x):\n",
    "    \"Convert from nanosiemens to siemens/cm^2\"\n",
    "    return 1e-9*x/soma_area"
   ]
  },
  {
   "cell_type": "code",
   "execution_count": 6,
   "metadata": {
    "collapsed": false
   },
   "outputs": [
    {
     "data": {
      "text/plain": [
       "{'Rin': 71,\n",
       " 'Vm0': -63.6,\n",
       " 'gabar': 0.0,\n",
       " 'ghbar': 0.0016666666666666666,\n",
       " 'gkhtbar': 0.0125,\n",
       " 'gkltbar': 0.016666666666666666,\n",
       " 'glk': 0.00016666666666666666,\n",
       " 'gnabar': 0.08333333333333334}"
      ]
     },
     "execution_count": 6,
     "metadata": {},
     "output_type": "execute_result"
    }
   ],
   "source": [
    "\n",
    "ptypeII = {cond:ns_to_mhocm2(val) for cond, val in \n",
    " [('gnabar',1000), ('gkhtbar',150), ('gkltbar', 200),\n",
    "  ('gabar', 0),  ('ghbar', 20),   ('glk', 2), ]}\n",
    "\n",
    "ptypeIc = {cond:ns_to_mhocm2(val) for cond, val in \n",
    "         [('gnabar', 1000), ('gkhtbar', 150), ('gkltbar', 0),\n",
    "          ('gabar', 0), ('ghbar', 0.5), ('glk', 2)]}\n",
    "\n",
    "ptypeIt = {cond:ns_to_mhocm2(val) for cond, val in \n",
    "         [('gnabar', 1000), ('gkhtbar', 80), ('gkltbar', 0),\n",
    "          ('gabar', 65), ('ghbar', 0.5), ('glk', 2)]}\n",
    "\n",
    "#typeII['glk'] = 0\n",
    "\n",
    "ptypeIc['Vm0'] = -63.9\n",
    "ptypeIt['Vm0'] = -64.2\n",
    "ptypeII['Vm0'] = -63.6 # mV\n",
    "\n",
    "ptypeIc['Rin'] = 473\n",
    "ptypeIt['Rin'] = 453\n",
    "ptypeII['Rin'] = 71    # MOhm\n",
    "# in S/cm^2\n",
    "ptypeII"
   ]
  },
  {
   "cell_type": "code",
   "execution_count": 7,
   "metadata": {
    "collapsed": false
   },
   "outputs": [],
   "source": [
    "bushy = h.Section(name='bushy') \n",
    "stellatec = h.Section(name='stellatec')\n",
    "stellatet = h.Section(name='stellatet')\n",
    "\n",
    "neurons = [(bushy, ptypeII), (stellatec, ptypeIc), (stellatet, ptypeIt)]\n",
    "\n",
    "for np in neurons:\n",
    "    n,p = np\n",
    "    n.nseg = 1\n",
    "    n.diam = soma_diam\n",
    "    n.L = soma_diam\n",
    "    n.Ra = 150\n",
    "    n.cm = 1\n",
    "    n.insert('mujpow')\n",
    "    #h.setpointer(n.i_ih_mujpow, n.i_ih)\n",
    "    for cur in currents:\n",
    "        n.insert(cur)\n",
    "    n.ek = -70\n",
    "    n.ena = 50\n",
    "    n.gbar_hcno = 0\n",
    "    n.gnabar_na = p['gnabar']\n",
    "    n.gkhtbar_kht = p['gkhtbar']\n",
    "    n.gkltbar_klt = p['gkltbar']\n",
    "    n.gkabar_ka = p['gabar']\n",
    "    n.ghbar_ih = p['ghbar']\n",
    "    n.g_leak = p['glk']\n",
    "    \n"
   ]
  },
  {
   "cell_type": "code",
   "execution_count": 10,
   "metadata": {
    "collapsed": false
   },
   "outputs": [
    {
     "data": {
      "text/plain": [
       "1.0"
      ]
     },
     "execution_count": 10,
     "metadata": {},
     "output_type": "execute_result"
    }
   ],
   "source": [
    "v_vecb = h.Vector()             # Membrane potential vector\n",
    "v_vecsc = h.Vector()\n",
    "v_vecst = h.Vector()\n",
    "t_vec = h.Vector()             # Time stamp vector\n",
    "\n",
    "v_vecb.record(bushy(0.5)._ref_v)\n",
    "v_vecsc.record(stellatec(0.5)._ref_v)\n",
    "v_vecst.record(stellatet(0.5)._ref_v)\n",
    "\n",
    "t_vec.record(h._ref_t)\n"
   ]
  },
  {
   "cell_type": "code",
   "execution_count": 11,
   "metadata": {
    "collapsed": false
   },
   "outputs": [],
   "source": [
    "h.v_init = ptypeII['Vm0']"
   ]
  },
  {
   "cell_type": "code",
   "execution_count": 12,
   "metadata": {
    "collapsed": true
   },
   "outputs": [],
   "source": [
    "h.tstop = 2000"
   ]
  },
  {
   "cell_type": "code",
   "execution_count": 13,
   "metadata": {
    "collapsed": false
   },
   "outputs": [
    {
     "data": {
      "text/plain": [
       "0.0"
      ]
     },
     "execution_count": 13,
     "metadata": {},
     "output_type": "execute_result"
    }
   ],
   "source": [
    "h.run()"
   ]
  },
  {
   "cell_type": "code",
   "execution_count": 14,
   "metadata": {
    "collapsed": false
   },
   "outputs": [
    {
     "data": {
      "text/plain": [
       "(-70, -50)"
      ]
     },
     "execution_count": 14,
     "metadata": {},
     "output_type": "execute_result"
    },
    {
     "data": {
      "image/png": "[encoded data removed]",
      "text/plain": [
       "<matplotlib.figure.Figure at 0x7f61f7f4b2d0>"
      ]
     },
     "metadata": {},
     "output_type": "display_data"
    }
   ],
   "source": [
    "plot(t_vec, v_vecb, label='bushy');\n",
    "plot(t_vec, v_vecsc, label='stellate c')\n",
    "plot(t_vec, v_vecst, label='stellate t')\n",
    "legend ()\n",
    "ylim(-70,-50)"
   ]
  },
  {
   "cell_type": "code",
   "execution_count": 15,
   "metadata": {
    "collapsed": false
   },
   "outputs": [
    {
     "name": "stdout",
     "output_type": "stream",
     "text": [
      "-63.6308382799\n",
      "-63.9592460687\n",
      "-64.2364613657\n"
     ]
    }
   ],
   "source": [
    "for n in neurons:\n",
    "    print n[0].v"
   ]
  },
  {
   "cell_type": "code",
   "execution_count": 16,
   "metadata": {
    "collapsed": true
   },
   "outputs": [],
   "source": [
    "def split_ih(seg, gratio=5, eh=-43):\n",
    "    \"splits ih to Na and K components (crude)\"\n",
    "    v = seg.v\n",
    "    gnah = seg.ih.i/(v*(gratio+1) - gratio*seg.ek - seg.ena)\n",
    "    inah = gnah*(v-seg.ena)\n",
    "    ikh = gratio*gnah*(v-seg.ek)\n",
    "    return inah, ikh"
   ]
  },
  {
   "cell_type": "code",
   "execution_count": 17,
   "metadata": {
    "collapsed": false
   },
   "outputs": [
    {
     "name": "stdout",
     "output_type": "stream",
     "text": [
      "bushy Rin: 71.0797445221 | 71 MOhm\n",
      "stellatec Rin: 473.458416702 | 473 MOhm\n",
      "stellatet Rin: 452.756938533 | 453 MOhm\n"
     ]
    }
   ],
   "source": [
    "def get_Rin(sec):\n",
    "    seg = sec(0.5)\n",
    "    gnar = seg.ina/(seg.v-seg.ena)  # Siemens/cm^2\n",
    "    gkr = seg.ik/(seg.v-seg.ek)\n",
    "    ghr = seg.i_ih/(seg.v- -43)\n",
    "    glkr = seg.leak.i/(seg.v -seg.erev_leak)\n",
    "    Ginx = (gnar + gkr + ghr + glkr)* seg.area()*1e-8\n",
    "    return 1e-6/Ginx \n",
    "\n",
    "for n in neurons:\n",
    "    print '{} Rin: {} | {} MOhm'.format(n[0].name(), get_Rin(n[0]), n[1]['Rin'])"
   ]
  },
  {
   "cell_type": "code",
   "execution_count": 20,
   "metadata": {
    "collapsed": false
   },
   "outputs": [
    {
     "data": {
      "text/plain": [
       "46152284.38485168"
      ]
     },
     "execution_count": 20,
     "metadata": {},
     "output_type": "execute_result"
    }
   ],
   "source": [
    "bushy(0.5).erate_mujpow*bushy(0.5).area()\n"
   ]
  },
  {
   "cell_type": "code",
   "execution_count": 21,
   "metadata": {
    "collapsed": true
   },
   "outputs": [],
   "source": [
    "R = 8314.4  # Universal gaz constant, mJ / mole*K\n",
    "F = 96485   # Faraday constant [C/mol]\n",
    "F_ATP = 50 # kJ/mol\n",
    "\n",
    "avogadro = 6.022e23 # N_a"
   ]
  },
  {
   "cell_type": "code",
   "execution_count": 22,
   "metadata": {
    "collapsed": false
   },
   "outputs": [],
   "source": [
    "def ratp_atwell(V, Rin, Ena = 50, Ek = -70):\n",
    "    \"returns resting ATP consumption rate in pmol ATP/s\"\n",
    "    # I take Rm in MOhms and V in mV\n",
    "    # Thus, result is in nmole/sec\n",
    "    out = (Ena-V)*(V-Ek)/(F*Rin*(V + 2*Ena - 3*Ek))\n",
    "    return out*1e3 # nmol -> pmol\n",
    "\n",
    "def pmol2molecules(x):\n",
    "    return x*1e-12*avogadro\n",
    "\n",
    "def atp2J(nATP):\n",
    "    \"Convert pmol ATP/s to energy usage in pJoule/s\"\n",
    "    return F_ATP * nATP * 1e3\n",
    "    pas\n",
    "\n",
    "def nJ2atp(nJ):\n",
    "    \"convert from nJoule/s to nmol ATP/s\"\n",
    "    return (nJ/F_ATP)*1e-3"
   ]
  },
  {
   "cell_type": "markdown",
   "metadata": {},
   "source": [
    "## Оценка затрат в покое по Attwell и по Moujahid&D'Anjou"
   ]
  },
  {
   "cell_type": "code",
   "execution_count": 36,
   "metadata": {
    "collapsed": false
   },
   "outputs": [],
   "source": [
    "def mouj_Erate(seg, Iap=0, erev_ih = -43):\n",
    "    v = seg.v\n",
    "    acc = Iap*v\n",
    "    acc += seg.ina*(v-seg.ena) \n",
    "    acc += seg.ik*(v-seg.ek)\n",
    "    acc += seg.i_leak*(v-seg.erev_leak)\n",
    "    acc += seg.ih.i*(v-erev_ih)\n",
    "    factor = (1e-8) # um^2 -> cm^2\n",
    "    factor *= (1e6) #-> pJ/s\n",
    "    return acc*seg.area()*factor\n",
    "\n",
    "def hasegawa_Erate(seg, Iap=0,erev_ih = -43):\n",
    "    v = seg.v\n",
    "    acc = Iap*v\n",
    "    acc -= seg.ina*seg.ena \n",
    "    acc -= seg.ik*seg.ek\n",
    "    acc -= seg.i_leak*seg.erev_leak\n",
    "    acc -= seg.ih.i*erev_ih\n",
    "    factor = (1e-8) # um^2 -> cm^2\n",
    "    factor *= (1e6) #-> pJ/s\n",
    "    return acc*seg.area()*factor"
   ]
  },
  {
   "cell_type": "code",
   "execution_count": 37,
   "metadata": {
    "collapsed": false
   },
   "outputs": [
    {
     "ename": "NameError",
     "evalue": "name 'Rin_t2x' is not defined",
     "output_type": "error",
     "traceback": [
      "\u001b[1;31m---------------------------------------------------------------------------\u001b[0m",
      "\u001b[1;31mNameError\u001b[0m                                 Traceback (most recent call last)",
      "\u001b[1;32m<ipython-input-37-83c3bc0faf5c>\u001b[0m in \u001b[0;36m<module>\u001b[1;34m()\u001b[0m\n\u001b[1;32m----> 1\u001b[1;33m \u001b[0mrATP_bushy\u001b[0m  \u001b[1;33m=\u001b[0m \u001b[0mratp_atwell\u001b[0m\u001b[1;33m(\u001b[0m\u001b[0mbushy\u001b[0m\u001b[1;33m.\u001b[0m\u001b[0mv\u001b[0m\u001b[1;33m,\u001b[0m \u001b[0mRin_t2x\u001b[0m\u001b[1;33m,\u001b[0m \u001b[0mEk\u001b[0m\u001b[1;33m=\u001b[0m\u001b[1;33m-\u001b[0m\u001b[1;36m70\u001b[0m\u001b[1;33m)\u001b[0m\u001b[1;33m\u001b[0m\u001b[0m\n\u001b[0m\u001b[0;32m      2\u001b[0m \u001b[1;33m\u001b[0m\u001b[0m\n\u001b[0;32m      3\u001b[0m print\"\"\"Оценка по Attwell: {:.3e} pmol ATP/сек\n\u001b[0;32m      4\u001b[0m                  : {:.3e} pJ/s\"\"\".format(rATP_bushy, atp2J(rATP_bushy))\n",
      "\u001b[1;31mNameError\u001b[0m: name 'Rin_t2x' is not defined"
     ]
    }
   ],
   "source": [
    "rATP_bushy  = ratp_atwell(bushy.v, Rin_t2x, Ek=-70)\n",
    "\n",
    "print\\\n",
    "\"\"\"Оценка по Attwell: {:.3e} pmol ATP/сек\n",
    "                 : {:.3e} pJ/s\"\"\".format(rATP_bushy, atp2J(rATP_bushy))"
   ]
  },
  {
   "cell_type": "code",
   "execution_count": null,
   "metadata": {
    "collapsed": false
   },
   "outputs": [],
   "source": [
    "dH_bushy2 = mouj_Erate(bushy(0.5))\n",
    "dH_bushy3 = hasegawa_Erate(bushy(0.5))\n",
    "\n",
    "rATP_bushy2 = nJ2atp(dH_bushy2)\n",
    "rATP_bushy3 = nJ2atp(dH_bushy3)"
   ]
  },
  {
   "cell_type": "code",
   "execution_count": null,
   "metadata": {
    "collapsed": false
   },
   "outputs": [],
   "source": [
    "print\\\n",
    "\"\"\"Оценка по Moujahid & D'Anjou: {:.3e} pmole ATP/сек\n",
    "                            : {:.3e} pJ/s\"\"\".format(rATP_bushy2, dH_bushy2)"
   ]
  },
  {
   "cell_type": "code",
   "execution_count": null,
   "metadata": {
    "collapsed": false
   },
   "outputs": [],
   "source": [
    "print\\\n",
    "\"\"\"Оценка по Hasegawa: {:.3e} pmole ATP/сек\n",
    "                  : {:.3e} pJ/s\"\"\".format(rATP_bushy3, dH_bushy3)"
   ]
  },
  {
   "cell_type": "markdown",
   "metadata": {},
   "source": [
    "Attwell to Moujahid ratio:"
   ]
  },
  {
   "cell_type": "code",
   "execution_count": null,
   "metadata": {
    "collapsed": false
   },
   "outputs": [],
   "source": [
    "rATP_bushy/rATP_bushy2"
   ]
  },
  {
   "cell_type": "code",
   "execution_count": null,
   "metadata": {
    "collapsed": false
   },
   "outputs": [],
   "source": [
    "inah, ikh = split_ih(seg)\n",
    "print inah, ikh\n",
    "\n",
    "jk = (bushy.ik + ikh)*soma_area/F # mmol/s\n",
    "jna = (bushy.ina + inah)*soma_area/F\n",
    "\n",
    "## В текущей модели, получается, что jk=jna, что сложно совместимо\n",
    "## со стехиометрией Na,K-АТФ-азы\n",
    "\n",
    "print allclose(jk,jna)\n",
    "\n",
    "jatp_na = -jna/3\n",
    "jatp_k = jk/2\n",
    "\n",
    "\n",
    "print '%0.3e'%(jatp_na*1e9), 'pmol ATP/s [from jNa]'\n",
    "print '%03e'%(jatp_k*1e9), 'pmol ATP/s [from jK]'"
   ]
  },
  {
   "cell_type": "markdown",
   "metadata": {},
   "source": [
    "А это близко к тому, что дает оценка по  Attwell (хотя бы по порядку величин)..."
   ]
  },
  {
   "cell_type": "markdown",
   "metadata": {
    "collapsed": false
   },
   "source": [
    "\n",
    "\n",
    "**Можем ли мы найти такой ток, при котором iNa:iK = 3:2 в стационарном состоянии?** -> Это будет током ipump"
   ]
  },
  {
   "cell_type": "code",
   "execution_count": 40,
   "metadata": {
    "collapsed": true
   },
   "outputs": [],
   "source": [
    "istim = h.IClamp(bushy(0.5))"
   ]
  },
  {
   "cell_type": "code",
   "execution_count": 38,
   "metadata": {
    "collapsed": false
   },
   "outputs": [
    {
     "ename": "NameError",
     "evalue": "name 'istim' is not defined",
     "output_type": "error",
     "traceback": [
      "\u001b[1;31m---------------------------------------------------------------------------\u001b[0m",
      "\u001b[1;31mNameError\u001b[0m                                 Traceback (most recent call last)",
      "\u001b[1;32m<ipython-input-38-dfab5358593b>\u001b[0m in \u001b[0;36m<module>\u001b[1;34m()\u001b[0m\n\u001b[1;32m----> 1\u001b[1;33m \u001b[0mistim\u001b[0m\u001b[1;33m.\u001b[0m\u001b[0mdelay\u001b[0m \u001b[1;33m=\u001b[0m \u001b[1;36m0.01\u001b[0m\u001b[1;33m\u001b[0m\u001b[0m\n\u001b[0m\u001b[0;32m      2\u001b[0m \u001b[0mistim\u001b[0m\u001b[1;33m.\u001b[0m\u001b[0mdur\u001b[0m \u001b[1;33m=\u001b[0m \u001b[1;36m10000\u001b[0m\u001b[1;33m\u001b[0m\u001b[0m\n\u001b[0;32m      3\u001b[0m \u001b[0mamps\u001b[0m \u001b[1;33m=\u001b[0m \u001b[0mlinspace\u001b[0m\u001b[1;33m(\u001b[0m\u001b[1;33m-\u001b[0m\u001b[1;36m1\u001b[0m\u001b[1;33m,\u001b[0m\u001b[1;36m1\u001b[0m\u001b[1;33m,\u001b[0m\u001b[1;36m10\u001b[0m\u001b[1;33m)\u001b[0m\u001b[1;33m\u001b[0m\u001b[0m\n\u001b[0;32m      4\u001b[0m \u001b[0mamps\u001b[0m \u001b[1;33m=\u001b[0m \u001b[0mconcatenate\u001b[0m\u001b[1;33m(\u001b[0m\u001b[1;33m[\u001b[0m\u001b[0mamps\u001b[0m\u001b[1;33m,\u001b[0m \u001b[0mlinspace\u001b[0m\u001b[1;33m(\u001b[0m\u001b[1;33m-\u001b[0m\u001b[1;36m0.25\u001b[0m\u001b[1;33m,\u001b[0m\u001b[1;36m0.25\u001b[0m\u001b[1;33m,\u001b[0m\u001b[1;36m100\u001b[0m\u001b[1;33m)\u001b[0m\u001b[1;33m]\u001b[0m\u001b[1;33m)\u001b[0m\u001b[1;33m\u001b[0m\u001b[0m\n\u001b[0;32m      5\u001b[0m \u001b[0mamps\u001b[0m \u001b[1;33m=\u001b[0m \u001b[0msorted\u001b[0m\u001b[1;33m(\u001b[0m\u001b[0mamps\u001b[0m\u001b[1;33m)\u001b[0m\u001b[1;33m\u001b[0m\u001b[0m\n",
      "\u001b[1;31mNameError\u001b[0m: name 'istim' is not defined"
     ]
    }
   ],
   "source": [
    "istim.delay = 0.01\n",
    "istim.dur = 10000\n",
    "amps = linspace(-1,1,10)\n",
    "amps = concatenate([amps, linspace(-0.25,0.25,100)])\n",
    "amps = sorted(amps)\n",
    "cur_ratio = []\n",
    "vrest = []\n",
    "h.tstop = 2000\n",
    "for amp in amps:\n",
    "    istim.amp = amp\n",
    "    h.run()\n",
    "    inah,ikh = split_ih(seg)\n",
    "    ina = (bushy.ina + inah)\n",
    "    ik = (bushy.ik + ikh)\n",
    "    vrest.append(seg.v)\n",
    "    cur_ratio.append(ina/ik)"
   ]
  },
  {
   "cell_type": "code",
   "execution_count": 39,
   "metadata": {
    "collapsed": false
   },
   "outputs": [
    {
     "ename": "NameError",
     "evalue": "name 'amps' is not defined",
     "output_type": "error",
     "traceback": [
      "\u001b[1;31m---------------------------------------------------------------------------\u001b[0m",
      "\u001b[1;31mNameError\u001b[0m                                 Traceback (most recent call last)",
      "\u001b[1;32m<ipython-input-39-f80ddbb53215>\u001b[0m in \u001b[0;36m<module>\u001b[1;34m()\u001b[0m\n\u001b[0;32m      1\u001b[0m \u001b[0mf\u001b[0m\u001b[1;33m,\u001b[0m \u001b[0maxs\u001b[0m \u001b[1;33m=\u001b[0m \u001b[0msubplots\u001b[0m\u001b[1;33m(\u001b[0m\u001b[1;36m2\u001b[0m\u001b[1;33m,\u001b[0m\u001b[1;36m1\u001b[0m\u001b[1;33m,\u001b[0m\u001b[0msharex\u001b[0m\u001b[1;33m=\u001b[0m\u001b[0mTrue\u001b[0m\u001b[1;33m,\u001b[0m\u001b[0mfigsize\u001b[0m\u001b[1;33m=\u001b[0m\u001b[1;33m(\u001b[0m\u001b[1;36m10\u001b[0m\u001b[1;33m,\u001b[0m\u001b[1;36m10\u001b[0m\u001b[1;33m)\u001b[0m\u001b[1;33m)\u001b[0m\u001b[1;33m\u001b[0m\u001b[0m\n\u001b[1;32m----> 2\u001b[1;33m \u001b[0maxs\u001b[0m\u001b[1;33m[\u001b[0m\u001b[1;36m0\u001b[0m\u001b[1;33m]\u001b[0m\u001b[1;33m.\u001b[0m\u001b[0mplot\u001b[0m\u001b[1;33m(\u001b[0m\u001b[0mamps\u001b[0m\u001b[1;33m,\u001b[0m \u001b[1;33m-\u001b[0m\u001b[0marray\u001b[0m\u001b[1;33m(\u001b[0m\u001b[0mcur_ratio\u001b[0m\u001b[1;33m)\u001b[0m\u001b[1;33m)\u001b[0m\u001b[1;33m\u001b[0m\u001b[0m\n\u001b[0m\u001b[0;32m      3\u001b[0m \u001b[0msetp\u001b[0m\u001b[1;33m(\u001b[0m\u001b[0maxs\u001b[0m\u001b[1;33m[\u001b[0m\u001b[1;36m0\u001b[0m\u001b[1;33m]\u001b[0m\u001b[1;33m,\u001b[0m \u001b[0mylim\u001b[0m\u001b[1;33m=\u001b[0m\u001b[1;33m(\u001b[0m\u001b[1;33m-\u001b[0m\u001b[1;36m5\u001b[0m\u001b[1;33m,\u001b[0m\u001b[1;36m5\u001b[0m\u001b[1;33m)\u001b[0m\u001b[1;33m)\u001b[0m\u001b[1;33m\u001b[0m\u001b[0m\n\u001b[0;32m      4\u001b[0m \u001b[0mylabel\u001b[0m\u001b[1;33m(\u001b[0m\u001b[1;34m'iNa:iK'\u001b[0m\u001b[1;33m)\u001b[0m\u001b[1;33m\u001b[0m\u001b[0m\n\u001b[0;32m      5\u001b[0m \u001b[0maxs\u001b[0m\u001b[1;33m[\u001b[0m\u001b[1;36m1\u001b[0m\u001b[1;33m]\u001b[0m\u001b[1;33m.\u001b[0m\u001b[0mplot\u001b[0m\u001b[1;33m(\u001b[0m\u001b[0mamps\u001b[0m\u001b[1;33m,\u001b[0m \u001b[0mvrest\u001b[0m\u001b[1;33m)\u001b[0m\u001b[1;33m\u001b[0m\u001b[0m\n",
      "\u001b[1;31mNameError\u001b[0m: name 'amps' is not defined"
     ]
    },
    {
     "data": {
      "image/png": "[encoded data removed]",
      "text/plain": [
       "<matplotlib.figure.Figure at 0x7f0999285d10>"
      ]
     },
     "metadata": {},
     "output_type": "display_data"
    }
   ],
   "source": [
    "f, axs = subplots(2,1,sharex=True,figsize=(10,10))\n",
    "axs[0].plot(amps, -array(cur_ratio))\n",
    "setp(axs[0], ylim=(-5,5))\n",
    "ylabel('iNa:iK')\n",
    "axs[1].plot(amps, vrest)\n",
    "axs[1].axhline(-70, color='m')\n",
    "xlabel('I stim, nA')\n",
    "xlim(-1,1)\n"
   ]
  },
  {
   "cell_type": "code",
   "execution_count": 35,
   "metadata": {
    "collapsed": false
   },
   "outputs": [
    {
     "data": {
      "text/plain": [
       "-0.12878787878787878"
      ]
     },
     "execution_count": 35,
     "metadata": {},
     "output_type": "execute_result"
    }
   ],
   "source": [
    "Icut= amps[argmin((array(vrest)+70)**2)]\n",
    "Icut"
   ]
  },
  {
   "cell_type": "code",
   "execution_count": 36,
   "metadata": {
    "collapsed": false
   },
   "outputs": [],
   "source": [
    "istim.delay = 0.01\n",
    "istim.dur = 20000\n",
    "#amps = linspace(-1,1,10)\n",
    "amps = linspace(-0.04, -0.01, 100)\n",
    "amps = sorted(amps)\n",
    "cur_ratio = []\n",
    "vrest = []\n",
    "h.tstop = 10000\n",
    "for amp in amps:\n",
    "    istim.amp = amp\n",
    "    h.run()\n",
    "    inah,ikh = split_ih(seg)\n",
    "    ina = (bushy.ina + inah)\n",
    "    ik = (bushy.ik + ikh)\n",
    "    vrest.append(seg.v)\n",
    "    cur_ratio.append(ina/ik)"
   ]
  },
  {
   "cell_type": "code",
   "execution_count": 37,
   "metadata": {
    "collapsed": false
   },
   "outputs": [
    {
     "data": {
      "text/plain": [
       "<matplotlib.text.Text at 0x7fb5678edf50>"
      ]
     },
     "execution_count": 37,
     "metadata": {},
     "output_type": "execute_result"
    },
    {
     "data": {
      "image/png": "[encoded data removed]",
      "text/plain": [
       "<matplotlib.figure.Figure at 0x7fb5653db550>"
      ]
     },
     "metadata": {},
     "output_type": "display_data"
    }
   ],
   "source": [
    "f, axs = subplots(2,1,sharex=True,figsize=(10,10))\n",
    "axs[0].plot(amps, -array(cur_ratio))\n",
    "setp(axs[0],  ylabel='iNa:iK')\n",
    "axs[1].plot(amps, vrest)\n",
    "axs[1].axhline(-70, color='m')\n",
    "xlabel('I stim, nA')"
   ]
  },
  {
   "cell_type": "code",
   "execution_count": 38,
   "metadata": {
    "collapsed": false
   },
   "outputs": [
    {
     "name": "stdout",
     "output_type": "stream",
     "text": [
      "Ipump получился -0.029 nA\n"
     ]
    },
    {
     "data": {
      "image/png": "[encoded data removed]",
      "text/plain": [
       "<matplotlib.figure.Figure at 0x7fb57006e750>"
      ]
     },
     "metadata": {},
     "output_type": "display_data"
    }
   ],
   "source": [
    "cr = -array(cur_ratio)\n",
    "score = (cr-1.5)**2\n",
    "plot(amps, log(score))\n",
    "ip = amps[argmin(score)]\n",
    "axvline(ip)\n",
    "#ylim(-20,0)\n",
    "xlim(-0.06, 0)\n",
    "\n",
    "print 'Ipump получился %.3f nA'%ip"
   ]
  },
  {
   "cell_type": "code",
   "execution_count": 39,
   "metadata": {
    "collapsed": false
   },
   "outputs": [
    {
     "data": {
      "text/plain": [
       "('New estimate: 2.984e-04', 'pmole ATP/s')"
      ]
     },
     "execution_count": 39,
     "metadata": {},
     "output_type": "execute_result"
    }
   ],
   "source": [
    "'New estimate: %.3e'%((-ip/F)*1e3), 'pmole ATP/s'"
   ]
  },
  {
   "cell_type": "code",
   "execution_count": 40,
   "metadata": {
    "collapsed": false
   },
   "outputs": [
    {
     "data": {
      "text/plain": [
       "-0.028787878787878789"
      ]
     },
     "execution_count": 40,
     "metadata": {},
     "output_type": "execute_result"
    }
   ],
   "source": [
    "ip"
   ]
  },
  {
   "cell_type": "code",
   "execution_count": 41,
   "metadata": {
    "collapsed": false
   },
   "outputs": [
    {
     "data": {
      "text/plain": [
       "0.0"
      ]
     },
     "execution_count": 41,
     "metadata": {},
     "output_type": "execute_result"
    }
   ],
   "source": [
    "istim.amp = ip\n",
    "h.v_init=-60\n",
    "h.tstop=10000\n",
    "h.dt = 0.025\n",
    "\n",
    "\n",
    "h.run()"
   ]
  },
  {
   "cell_type": "code",
   "execution_count": 42,
   "metadata": {
    "collapsed": false
   },
   "outputs": [
    {
     "name": "stdout",
     "output_type": "stream",
     "text": [
      "-64.6630366783\n",
      "Current ratio: 1.50313913037\n",
      "Sum current: -0.0024551592356\n"
     ]
    }
   ],
   "source": [
    "print seg.v\n",
    "\n",
    "inah, ikh = split_ih(seg)\n",
    "\n",
    "print 'Current ratio:', -(inah + bushy.ina) / (ikh + bushy.ik)\n",
    "print 'Sum current:', (inah + bushy.ina) + (ikh+bushy.ik)"
   ]
  },
  {
   "cell_type": "code",
   "execution_count": 43,
   "metadata": {
    "collapsed": false
   },
   "outputs": [],
   "source": [
    "ipumpx = -(inah + bushy.ina)*soma_area/(F*3)"
   ]
  },
  {
   "cell_type": "code",
   "execution_count": 44,
   "metadata": {
    "collapsed": false
   },
   "outputs": [
    {
     "data": {
      "text/plain": [
       "[<matplotlib.lines.Line2D at 0x7fb564b54810>]"
      ]
     },
     "execution_count": 44,
     "metadata": {},
     "output_type": "execute_result"
    },
    {
     "data": {
      "image/png": "[encoded data removed]",
      "text/plain": [
       "<matplotlib.figure.Figure at 0x7fb564bd6cd0>"
      ]
     },
     "metadata": {},
     "output_type": "display_data"
    }
   ],
   "source": [
    "plot(t_vec, v_vec)"
   ]
  },
  {
   "cell_type": "markdown",
   "metadata": {},
   "source": [
    "**Note** Только за эти времена токи уже устаканиваются, поэтому долго считать. Надо что ли алгебраически вывести..."
   ]
  },
  {
   "cell_type": "code",
   "execution_count": 45,
   "metadata": {
    "collapsed": true
   },
   "outputs": [],
   "source": [
    "dH_bushy2 = mouj_Erate(bushy(0.5),ip)\n",
    "dH_bushy3 = hasegawa_Erate(bushy(0.5),ip)\n",
    "\n",
    "rATP_bushy2 = nJ2atp(dH_bushy2)\n",
    "rATP_bushy3 = nJ2atp(dH_bushy3)"
   ]
  },
  {
   "cell_type": "code",
   "execution_count": 46,
   "metadata": {
    "collapsed": false
   },
   "outputs": [
    {
     "name": "stdout",
     "output_type": "stream",
     "text": [
      "Оценка по Moujahid & D'Anjou: 4.834e-04 pmole ATP/сек\n",
      "                            : 2.417e+01 pJ/s\n"
     ]
    }
   ],
   "source": [
    "print\\\n",
    "\"\"\"Оценка по Moujahid & D'Anjou: {:.3e} pmole ATP/сек\n",
    "                            : {:.3e} pJ/s\"\"\".format(rATP_bushy2, dH_bushy2)"
   ]
  },
  {
   "cell_type": "code",
   "execution_count": 47,
   "metadata": {
    "collapsed": false
   },
   "outputs": [
    {
     "name": "stdout",
     "output_type": "stream",
     "text": [
      "Оценка по Hasegawa: 4.462e-04 pmole ATP/сек\n",
      "                  : 2.231e+01 pJ/s\n"
     ]
    }
   ],
   "source": [
    "print\\\n",
    "\"\"\"Оценка по Hasegawa: {:.3e} pmole ATP/сек\n",
    "                  : {:.3e} pJ/s\"\"\".format(rATP_bushy3, dH_bushy3)"
   ]
  },
  {
   "cell_type": "code",
   "execution_count": 48,
   "metadata": {
    "collapsed": false
   },
   "outputs": [
    {
     "name": "stdout",
     "output_type": "stream",
     "text": [
      "Новая оценка по Attwell-like: 3.041e-04 pmol ATP/s\n"
     ]
    }
   ],
   "source": [
    "print 'Новая оценка по Attwell-like: %.3e'%((ipumpx*1e9)), 'pmol ATP/s'"
   ]
  },
  {
   "cell_type": "markdown",
   "metadata": {
    "collapsed": true
   },
   "source": [
    "Ну что же, теперь хотя бы порядок величин совпадает."
   ]
  },
  {
   "cell_type": "markdown",
   "metadata": {},
   "source": [
    "## Исправляем оценку по Муджахиду (23.03.2016)\n",
    "\n",
    "Обнаружил недостаток в том, как мы оценивали затраты энергии по Moujahid: неявно предполагалось, что когда $V = E_h$, то $I_h$ не тратит энергию, но это не так: он одновременно использует $E_Na$ и $E_K$, потому что пропускает оба иона. Попробуем разложить этот ток на Na и К составляющие, и использовать их в подсчете энергозатрат по методу Moujahid.\n"
   ]
  },
  {
   "cell_type": "code",
   "execution_count": 26,
   "metadata": {
    "collapsed": false
   },
   "outputs": [
    {
     "data": {
      "text/plain": [
       "0.0"
      ]
     },
     "execution_count": 26,
     "metadata": {},
     "output_type": "execute_result"
    }
   ],
   "source": [
    "istims = [h.IClamp(n[0](0.5)) for n in neurons]\n",
    "h.run()"
   ]
  },
  {
   "cell_type": "code",
   "execution_count": 31,
   "metadata": {
    "collapsed": true
   },
   "outputs": [],
   "source": [
    "def mouj_Erate2(seg, Iap=0, erev_ih = -43):\n",
    "    v = seg.v\n",
    "    acc = Iap*v\n",
    "    inah, ikh = split_ih(seg) # раскладываем Ih на компоненты\n",
    "    ina = seg.ina + inah      # суммарный ток Na\n",
    "    ik = seg.ik + ikh         # суммарный ток K\n",
    "    acc += ina*(v-seg.ena) \n",
    "    acc += ik*(v-seg.ek)\n",
    "    #acc += seg.i_leak*(v-seg.erev_leak) # Ну и утечка, хотя вклад от нее минимальный\n",
    "    factor = (1e-8) # um^2 -> cm^2\n",
    "    factor *= (1e6) #-> pJ/s\n",
    "    return acc*seg.area()*factor"
   ]
  },
  {
   "cell_type": "code",
   "execution_count": 32,
   "metadata": {
    "collapsed": false
   },
   "outputs": [],
   "source": [
    "attw_rATP = [ratp_atwell(n[0].v,get_Rin(n[0])) for n in neurons]\n",
    "\n",
    "mouj_dH = [mouj_Erate2(n[0](0.5)) for n in neurons]\n",
    "mouj_rATP = map(nJ2atp, mouj_dH)\n",
    "\n",
    "#dH_bushy2a = mouj_Erate2(bushy(0.5))\n",
    "#dH_bushy3 = hasegawa_Erate(bushy(0.5),ip)\n",
    "\n",
    "#rATP_bushy2a = nJ2atp(dH_bushy2a)\n",
    "#rATP_bushy3 = nJ2atp(dH_bushy3)"
   ]
  },
  {
   "cell_type": "code",
   "execution_count": 33,
   "metadata": {
    "collapsed": false
   },
   "outputs": [],
   "source": [
    "def print_ratp_estimate(cell):\n",
    "    attw = ratp_atwell(cell.v, get_Rin(cell))\n",
    "    mouj_dh = mouj_Erate2(cell(0.5))\n",
    "    mouj_atp = nJ2atp(mouj_dh)\n",
    "    print \"Attwell: %.3e pmol ATP/s\"%attw\n",
    "    print \"Moujahid: %.3e pmol ATP/s\"%mouj_atp\n",
    "    print \"A:M ratio: %2.3f\"%(attw/mouj_atp)\n",
    "    \n",
    "def print_erate_estimate(cell):\n",
    "    attw = ratp_atwell(cell.v, get_Rin(cell))\n",
    "    seg = cell(0.5)\n",
    "    mouj_dh = mouj_Erate2(seg)\n",
    "    mujpow = seg.erate_mujpow*seg.area()*1e-8\n",
    "    attw_erate = atp2J(attw)\n",
    "    print \"Attwell: %.3e pJ/s\"%attw_erate\n",
    "    print \"Moujahid: %.3e pJ/s\"%mouj_dh\n",
    "    print \"Mujpow dummy mech: %.3e pJ/s\"%mujpow\n",
    "    print \"A:M ratio: %2.3f\"%(attw_erate/mouj_dh)"
   ]
  },
  {
   "cell_type": "code",
   "execution_count": 36,
   "metadata": {
    "collapsed": true
   },
   "outputs": [],
   "source": [
    "seg = bushy(0.5)"
   ]
  },
  {
   "cell_type": "code",
   "execution_count": 42,
   "metadata": {
    "collapsed": false
   },
   "outputs": [],
   "source": [
    "ihna,ihk = split_ih(seg)"
   ]
  },
  {
   "cell_type": "code",
   "execution_count": 51,
   "metadata": {
    "collapsed": false
   },
   "outputs": [
    {
     "data": {
      "text/plain": [
       "38460.236987376404"
      ]
     },
     "execution_count": 51,
     "metadata": {},
     "output_type": "execute_result"
    }
   ],
   "source": [
    "1e6*((seg.ina)*(seg.v-seg.ena) + (seg.ik)*(seg.v-seg.ek))"
   ]
  },
  {
   "cell_type": "code",
   "execution_count": 50,
   "metadata": {
    "collapsed": false
   },
   "outputs": [
    {
     "data": {
      "text/plain": [
       "38460.236987376404"
      ]
     },
     "execution_count": 50,
     "metadata": {},
     "output_type": "execute_result"
    }
   ],
   "source": [
    "seg.erate_mujpow"
   ]
  },
  {
   "cell_type": "code",
   "execution_count": 34,
   "metadata": {
    "collapsed": false
   },
   "outputs": [
    {
     "name": "stdout",
     "output_type": "stream",
     "text": [
      "=====  bushy  =====\n",
      "Attwell: 2.142e+01 pJ/s\n",
      "Moujahid: 1.011e+01 pJ/s\n",
      "Mujpow dummy mech: 4.615e-01 pJ/s\n",
      "A:M ratio: 2.118\n",
      "------\n",
      "\n",
      "=====  stellatec  =====\n",
      "Attwell: 3.062e+00 pJ/s\n",
      "Moujahid: 3.275e-01 pJ/s\n",
      "Mujpow dummy mech: 8.252e-02 pJ/s\n",
      "A:M ratio: 9.351\n",
      "------\n",
      "\n",
      "=====  stellatet  =====\n",
      "Attwell: 3.066e+00 pJ/s\n",
      "Moujahid: 3.275e-01 pJ/s\n",
      "Mujpow dummy mech: 7.916e-02 pJ/s\n",
      "A:M ratio: 9.362\n",
      "------\n",
      "\n"
     ]
    }
   ],
   "source": [
    "for np in neurons:\n",
    "    n = np[0]\n",
    "    print '===== ', n.name(), ' ====='\n",
    "    print_erate_estimate(n)\n",
    "    #print \"Mujpow dummy mechanism: \", n.\n",
    "    print '------\\n'\n"
   ]
  },
  {
   "cell_type": "code",
   "execution_count": 35,
   "metadata": {
    "collapsed": false
   },
   "outputs": [
    {
     "data": {
      "text/plain": [
       "(-5.949951248315302e-05,\n",
       " 1.586651897179199e-05,\n",
       " -0.00012983185923895653,\n",
       " 0.00017345896411368025)"
      ]
     },
     "execution_count": 35,
     "metadata": {},
     "output_type": "execute_result"
    }
   ],
   "source": [
    "stellatec.ina, stellatec.ik, stellatec(0.5).ih.i, stellatec.i_leak"
   ]
  },
  {
   "cell_type": "code",
   "execution_count": 52,
   "metadata": {
    "collapsed": false
   },
   "outputs": [
    {
     "name": "stdout",
     "output_type": "stream",
     "text": [
      "Оценка по Moujahid & D'Anjou #2(a): 1.872e-04 pmole ATP/сек\n",
      "                                  : 9.358e+00 pJ/s\n"
     ]
    }
   ],
   "source": [
    "print\\\n",
    "\"\"\"Оценка по Moujahid & D'Anjou #2(a): {:.3e} pmole ATP/сек\n",
    "                                  : {:.3e} pJ/s\"\"\".format(rATP_bushy2a, dH_bushy2a)"
   ]
  },
  {
   "cell_type": "markdown",
   "metadata": {},
   "source": [
    "Мы получили меньше, чем в оценке по Attwell, но зато не добавляем искуственный \"ток через Na/K насос\", чтобы добиться нулевого суммарного потока Na и К через мембрану в модели предполагая, что любые discrepancies компенсируются потоками этих ионов, не рассматриваемых в модели напрямую."
   ]
  },
  {
   "cell_type": "code",
   "execution_count": 53,
   "metadata": {
    "collapsed": false
   },
   "outputs": [
    {
     "name": "stdout",
     "output_type": "stream",
     "text": [
      "Оценка по Moujahid & D'Anjou (2b): 6.549e-04 pmole ATP/сек\n",
      "                                 : 3.274e+01 pJ/s\n"
     ]
    }
   ],
   "source": [
    "istim.amp = ip\n",
    "h.run()\n",
    "dH_bushy2b = mouj_Erate2(bushy(0.5),ip)\n",
    "rATP_bushy2b = nJ2atp(dH_bushy2b)\n",
    "\n",
    "print\\\n",
    "\"\"\"Оценка по Moujahid & D'Anjou (2b): {:.3e} pmole ATP/сек\n",
    "                                 : {:.3e} pJ/s\"\"\".format(rATP_bushy2b, dH_bushy2b)"
   ]
  },
  {
   "cell_type": "code",
   "execution_count": 54,
   "metadata": {
    "collapsed": false
   },
   "outputs": [
    {
     "data": {
      "text/plain": [
       "0.0024999999999999996"
      ]
     },
     "execution_count": 54,
     "metadata": {},
     "output_type": "execute_result"
    }
   ],
   "source": [
    "1e-6*0.03/soma_area"
   ]
  },
  {
   "cell_type": "markdown",
   "metadata": {},
   "source": [
    "При добавлении и гиперполяризующего тока $\\approx -0.03$ nA ($0.0025$ mA/cm^2) энаргозатраты выросли (с учетом тока) почти в 3.5 раза."
   ]
  },
  {
   "cell_type": "markdown",
   "metadata": {},
   "source": [
    "** Но что выбрать, оценку по Moujahid или Hasegawa, и есть ли разница?**"
   ]
  },
  {
   "cell_type": "code",
   "execution_count": 47,
   "metadata": {
    "collapsed": true
   },
   "outputs": [],
   "source": [
    "def hasegawa_Erate2(seg, Iap=0,erev_ih = -43):\n",
    "    v = seg.v\n",
    "    acc = Iap*v\n",
    "    inah, ikh = split_ih(seg) # раскладываем Ih на компоненты\n",
    "    ina = seg.ina + inah      # суммарный ток Na\n",
    "    ik = seg.ik + ikh         # суммарный ток K\n",
    "    acc -= ina*seg.ena \n",
    "    acc -= ik*seg.ek\n",
    "    acc -= seg.i_leak*seg.erev_leak\n",
    "    factor = (1e-8) # um^2 -> cm^2\n",
    "    factor *= (1e6) #-> pJ/s\n",
    "    return acc*seg.area()*factor"
   ]
  },
  {
   "cell_type": "code",
   "execution_count": 56,
   "metadata": {
    "collapsed": true
   },
   "outputs": [],
   "source": [
    "istim.amp =0\n",
    "h.run()\n",
    "\n",
    "dH_bushy3a = hasegawa_Erate2(bushy(0.5))\n",
    "rATP_bushy3a = nJ2atp(dH_bushy3a)"
   ]
  },
  {
   "cell_type": "code",
   "execution_count": 57,
   "metadata": {
    "collapsed": false
   },
   "outputs": [
    {
     "name": "stdout",
     "output_type": "stream",
     "text": [
      "Оценка по Hasegawa (2a): 1.872e-04 pmole ATP/сек\n",
      "                       : 9.358e+00 pJ/s\n"
     ]
    }
   ],
   "source": [
    "print\\\n",
    "\"\"\"Оценка по Hasegawa (2a): {:.3e} pmole ATP/сек\n",
    "                       : {:.3e} pJ/s\"\"\".format(rATP_bushy3a, dH_bushy3a)"
   ]
  },
  {
   "cell_type": "markdown",
   "metadata": {},
   "source": [
    "Ожидаемо, что в состоянии покоя ($I_{app}=0$) разницы между Hasegawa и Moujahid нет."
   ]
  },
  {
   "cell_type": "code",
   "execution_count": 58,
   "metadata": {
    "collapsed": false
   },
   "outputs": [
    {
     "name": "stdout",
     "output_type": "stream",
     "text": [
      "Оценка по Hasegawa (2b): 6.176e-04 pmole ATP/сек\n",
      "                       : 3.088e+01 pJ/s\n"
     ]
    }
   ],
   "source": [
    "istim.amp = ip\n",
    "h.run()\n",
    "dH_bushy3b = hasegawa_Erate2(bushy(0.5),ip)\n",
    "rATP_bushy3b = nJ2atp(dH_bushy3b)\n",
    "\n",
    "print\\\n",
    "\"\"\"Оценка по Hasegawa (2b): {:.3e} pmole ATP/сек\n",
    "                       : {:.3e} pJ/s\"\"\".format(rATP_bushy3b, dH_bushy3b)"
   ]
  },
  {
   "cell_type": "markdown",
   "metadata": {},
   "source": [
    "Но и при небольшом гиперполяризующем токе разница также не столь значительна."
   ]
  },
  {
   "cell_type": "code",
   "execution_count": null,
   "metadata": {
    "collapsed": true
   },
   "outputs": [],
   "source": []
  }
 ],
 "metadata": {
  "kernelspec": {
   "display_name": "Python 2",
   "language": "python",
   "name": "python2"
  },
  "language_info": {
   "codemirror_mode": {
    "name": "ipython",
    "version": 2
   },
   "file_extension": ".py",
   "mimetype": "text/x-python",
   "name": "python",
   "nbconvert_exporter": "python",
   "pygments_lexer": "ipython2",
   "version": "2.7.11"
  }
 },
 "nbformat": 4,
 "nbformat_minor": 0
}
