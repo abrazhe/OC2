{
 "cells": [
  {
   "cell_type": "code",
   "execution_count": 27,
   "metadata": {
    "collapsed": false
   },
   "outputs": [
    {
     "name": "stdout",
     "output_type": "stream",
     "text": [
      "Populating the interactive namespace from numpy and matplotlib\n"
     ]
    }
   ],
   "source": [
    "%pylab inline\n",
    "style.use('ggplot')"
   ]
  },
  {
   "cell_type": "code",
   "execution_count": 28,
   "metadata": {
    "collapsed": true
   },
   "outputs": [],
   "source": [
    "from neuron import h, gui"
   ]
  },
  {
   "cell_type": "markdown",
   "metadata": {},
   "source": [
    "# Using original RM03 model and interface to NEURON"
   ]
  },
  {
   "cell_type": "code",
   "execution_count": 29,
   "metadata": {
    "collapsed": false
   },
   "outputs": [
    {
     "name": "stdout",
     "output_type": "stream",
     "text": [
      "Soma area: 1.20e-05 cm^2, diameter: 19.54 um\n"
     ]
    }
   ],
   "source": [
    "total_capacitance = 12 # pF\n",
    "\n",
    "soma_area = total_capacitance * 1e-6 / 1 # pF -> uF, 1 uF/cm^2\n",
    "soma_diam = 1e4*sqrt(soma_area/pi) # cm->um\n",
    "\n",
    "print 'Soma area: %02.2e cm^2, diameter: %02.2f um'%(soma_area,soma_diam)\n",
    "# Isn't it a bit too large a diameter? -> No, it's OK\n"
   ]
  },
  {
   "cell_type": "code",
   "execution_count": 30,
   "metadata": {
    "collapsed": false
   },
   "outputs": [],
   "source": [
    "currents = ['klt', 'kht', 'na', 'ka', 'ih', 'hcno', 'leak']"
   ]
  },
  {
   "cell_type": "code",
   "execution_count": 31,
   "metadata": {
    "collapsed": true
   },
   "outputs": [],
   "source": [
    "def ns_to_mhocm2(x):\n",
    "    \"Convert from nanosiemens to siemens/cm^2\"\n",
    "    return 1e-9*x/soma_area"
   ]
  },
  {
   "cell_type": "code",
   "execution_count": 32,
   "metadata": {
    "collapsed": false
   },
   "outputs": [
    {
     "data": {
      "text/plain": [
       "{'Vm0': -63.6,\n",
       " 'gabar': 0.0,\n",
       " 'ghbar': 0.0016666666666666666,\n",
       " 'gkhtbar': 0.0125,\n",
       " 'gkltbar': 0.016666666666666666,\n",
       " 'glk': 0,\n",
       " 'gnabar': 0.08333333333333334}"
      ]
     },
     "execution_count": 32,
     "metadata": {},
     "output_type": "execute_result"
    }
   ],
   "source": [
    "\n",
    "typeII = {cond:ns_to_mhocm2(val) for cond, val in \n",
    " [('gnabar',1000), ('gkhtbar',150), ('gkltbar', 200),\n",
    "  ('gabar', 0),  ('ghbar', 20),   ('glk', 2), ]}\n",
    "\n",
    "typeII['glk'] = 0\n",
    "typeII['Vm0'] = -63.6\n",
    "# in S/cm^2\n",
    "typeII"
   ]
  },
  {
   "cell_type": "code",
   "execution_count": 33,
   "metadata": {
    "collapsed": false
   },
   "outputs": [],
   "source": [
    "bushy = h.Section(name='bushy') \n",
    "bushy.nseg=1\n",
    "bushy.diam = soma_diam\n",
    "bushy.L = soma_diam\n",
    "bushy.Ra = 150\n",
    "bushy.cm = 1"
   ]
  },
  {
   "cell_type": "code",
   "execution_count": 34,
   "metadata": {
    "collapsed": false
   },
   "outputs": [],
   "source": [
    "for cur in currents:\n",
    "    bushy.insert(cur)"
   ]
  },
  {
   "cell_type": "code",
   "execution_count": 35,
   "metadata": {
    "collapsed": false
   },
   "outputs": [],
   "source": [
    "bushy.ek = -70\n",
    "bushy.ena = 50\n",
    "bushy.gbar_hcno = 0\n",
    "\n",
    "bushy.gnabar_na = typeII['gnabar']\n",
    "bushy.gkhtbar_kht = typeII['gkhtbar']\n",
    "bushy.gkltbar_klt = typeII['gkltbar']\n",
    "bushy.gkabar_ka = typeII['gabar']\n",
    "bushy.ghbar_ih = typeII['ghbar']\n",
    "bushy.g_leak = typeII['glk']"
   ]
  },
  {
   "cell_type": "code",
   "execution_count": 36,
   "metadata": {
    "collapsed": false
   },
   "outputs": [
    {
     "data": {
      "text/plain": [
       "1.0"
      ]
     },
     "execution_count": 36,
     "metadata": {},
     "output_type": "execute_result"
    }
   ],
   "source": [
    "h.psection(bushy)"
   ]
  },
  {
   "cell_type": "code",
   "execution_count": 37,
   "metadata": {
    "collapsed": false
   },
   "outputs": [
    {
     "data": {
      "text/plain": [
       "1.0"
      ]
     },
     "execution_count": 37,
     "metadata": {},
     "output_type": "execute_result"
    }
   ],
   "source": [
    "v_vec = h.Vector()             # Membrane potential vector\n",
    "t_vec = h.Vector()             # Time stamp vector\n",
    "v_vec.record(bushy(0.5)._ref_v)\n",
    "t_vec.record(h._ref_t)\n"
   ]
  },
  {
   "cell_type": "code",
   "execution_count": 38,
   "metadata": {
    "collapsed": false
   },
   "outputs": [],
   "source": [
    "h.v_init = typeII['Vm0']"
   ]
  },
  {
   "cell_type": "code",
   "execution_count": 39,
   "metadata": {
    "collapsed": true
   },
   "outputs": [],
   "source": [
    "h.tstop = 2000"
   ]
  },
  {
   "cell_type": "code",
   "execution_count": 40,
   "metadata": {
    "collapsed": false
   },
   "outputs": [
    {
     "data": {
      "text/plain": [
       "0.0"
      ]
     },
     "execution_count": 40,
     "metadata": {},
     "output_type": "execute_result"
    }
   ],
   "source": [
    "h.run()"
   ]
  },
  {
   "cell_type": "code",
   "execution_count": 41,
   "metadata": {
    "collapsed": false
   },
   "outputs": [
    {
     "data": {
      "text/plain": [
       "(-50, -70)"
      ]
     },
     "execution_count": 41,
     "metadata": {},
     "output_type": "execute_result"
    },
    {
     "data": {
      "image/png": "[encoded data removed]",
      "text/plain": [
       "<matplotlib.figure.Figure at 0x7f17cdbc7b90>"
      ]
     },
     "metadata": {},
     "output_type": "display_data"
    }
   ],
   "source": [
    "plot(t_vec, v_vec);\n",
    "ylim(-50,-70)"
   ]
  },
  {
   "cell_type": "code",
   "execution_count": 42,
   "metadata": {
    "collapsed": false
   },
   "outputs": [
    {
     "data": {
      "text/plain": [
       "-63.518161789521216"
      ]
     },
     "execution_count": 42,
     "metadata": {},
     "output_type": "execute_result"
    }
   ],
   "source": [
    "bushy.v"
   ]
  },
  {
   "cell_type": "code",
   "execution_count": 43,
   "metadata": {
    "collapsed": true
   },
   "outputs": [],
   "source": [
    "seg = bushy(0.5)"
   ]
  },
  {
   "cell_type": "code",
   "execution_count": 44,
   "metadata": {
    "collapsed": false
   },
   "outputs": [
    {
     "data": {
      "text/plain": [
       "-0.0010594020405146315"
      ]
     },
     "execution_count": 44,
     "metadata": {},
     "output_type": "execute_result"
    }
   ],
   "source": [
    "seg.ih.i*0.2 + seg.ina"
   ]
  },
  {
   "cell_type": "code",
   "execution_count": 45,
   "metadata": {
    "collapsed": false
   },
   "outputs": [
    {
     "data": {
      "text/plain": [
       "0.0010594059638932415"
      ]
     },
     "execution_count": 45,
     "metadata": {},
     "output_type": "execute_result"
    }
   ],
   "source": [
    "seg.ih.i*0.8 + seg.ik"
   ]
  },
  {
   "cell_type": "code",
   "execution_count": null,
   "metadata": {
    "collapsed": true
   },
   "outputs": [],
   "source": []
  },
  {
   "cell_type": "code",
   "execution_count": 46,
   "metadata": {
    "collapsed": false
   },
   "outputs": [
    {
     "name": "stdout",
     "output_type": "stream",
     "text": [
      "71.0 in cit., in model: 81.9637138282 MOhm\n"
     ]
    }
   ],
   "source": [
    "gnar = seg.ina/(seg.v-seg.ena)  # Siemens/cm^2\n",
    "gkr = seg.ik/(seg.v-seg.ek)\n",
    "ghr = seg.i_ih/(seg.v- -43)\n",
    "glkr = seg.leak.i/(seg.v -seg.erev_leak)\n",
    "\n",
    "\n",
    "Rin_t2 = 71.0 # From Rothman and Manis 2003\n",
    "\n",
    "# From model:\n",
    "Ginx = (gnar + gkr + ghr + glkr)* seg.area()*1e-8\n",
    "Rin_t2x = 1e-6/Ginx \n",
    "\n",
    "print Rin_t2, 'in cit., in model:', Rin_t2x, 'MOhm'"
   ]
  },
  {
   "cell_type": "code",
   "execution_count": 47,
   "metadata": {
    "collapsed": true
   },
   "outputs": [],
   "source": [
    "R = 8314.4  # Universal gaz constant, mJ / mole*K\n",
    "F = 96485   # Faraday constant [C/mol]\n",
    "F_ATP = 50 # kJ/mol\n",
    "\n",
    "avogadro = 6.022e23 # N_a"
   ]
  },
  {
   "cell_type": "code",
   "execution_count": 48,
   "metadata": {
    "collapsed": false
   },
   "outputs": [],
   "source": [
    "def ratp_atwell(V, Rin, Ena = 50, Ek = -70):\n",
    "    \"returns resting ATP consumption rate in pmol ATP/s\"\n",
    "    # I take Rm in MOhms and V in mV\n",
    "    # Thus, result is in nmole/sec\n",
    "    out = (Ena-V)*(V-Ek)/(F*Rin*(V + 2*Ena - 3*Ek))\n",
    "    return out*1e3 # nmol -> pmol\n",
    "\n",
    "def pmol2molecules(x):\n",
    "    return x*1e-12*avogadro\n",
    "\n",
    "def atp2J(nATP):\n",
    "    \"Convert pmol ATP/s to energy usage in pJoule/s\"\n",
    "    return F_ATP * nATP * 1e3\n",
    "    pas\n",
    "\n",
    "def nJ2atp(nJ):\n",
    "    \"convert from nJoule/s to nmol ATP/s\"\n",
    "    return (nJ/F_ATP)*1e-3"
   ]
  },
  {
   "cell_type": "markdown",
   "metadata": {},
   "source": [
    "## Оценка затрат в покое по Attwell и по Moujahid&D'Anjou"
   ]
  },
  {
   "cell_type": "code",
   "execution_count": 51,
   "metadata": {
    "collapsed": false
   },
   "outputs": [
    {
     "name": "stdout",
     "output_type": "stream",
     "text": [
      "Оценка по Attwell: 3.775e-04 pmol ATP/сек\n",
      "                 : 1.887e+01 pJ/s\n"
     ]
    }
   ],
   "source": [
    "rATP_bushy  = ratp_atwell(bushy.v, Rin_t2x, Ek=-70)\n",
    "\n",
    "print\\\n",
    "\"\"\"Оценка по Attwell: {:.3e} pmol ATP/сек\n",
    "                 : {:.3e} pJ/s\"\"\".format(rATP_bushy, atp2J(rATP_bushy))"
   ]
  },
  {
   "cell_type": "code",
   "execution_count": 65,
   "metadata": {
    "collapsed": false
   },
   "outputs": [],
   "source": [
    "def mouj_Erate(seg, erev_ih = -43):\n",
    "    v = seg.v\n",
    "    acc = 0\n",
    "    acc += seg.ina*(v-seg.ena) \n",
    "    acc += seg.ik*(v-seg.ek)\n",
    "    acc += seg.i_leak*(v-seg.erev_leak)\n",
    "    acc += seg.ih.i*(v-erev_ih)\n",
    "    factor = (1e-8) # um^2 -> cm^2\n",
    "    factor *= (1e6) #-> pJ/s\n",
    "    return acc*seg.area()*factor\n",
    "\n",
    "def hasegawa_Erate(seg, erev_ih = -43):\n",
    "    v = seg.v\n",
    "    acc = 0\n",
    "    acc -= seg.ina*seg.ena \n",
    "    acc -= seg.ik*seg.ek\n",
    "    acc -= seg.i_leak*seg.erev_leak\n",
    "    acc -= seg.ih.i*erev_ih\n",
    "    factor = (1e-8) # um^2 -> cm^2\n",
    "    factor *= (1e6) #-> pJ/s\n",
    "    return acc*seg.area()*factor"
   ]
  },
  {
   "cell_type": "code",
   "execution_count": 66,
   "metadata": {
    "collapsed": false
   },
   "outputs": [],
   "source": [
    "dH_bushy2 = mouj_Erate(bushy(0.5))\n",
    "dH_bushy3 = hasegawa_Erate(bushy(0.5))\n",
    "\n",
    "rATP_bushy2 = nJ2atp(dH_bushy2)\n",
    "rATP_bushy3 = nJ2atp(dH_bushy3)"
   ]
  },
  {
   "cell_type": "code",
   "execution_count": 67,
   "metadata": {
    "collapsed": false
   },
   "outputs": [
    {
     "name": "stdout",
     "output_type": "stream",
     "text": [
      "Оценка по Moujahid & D'Anjou: 3.408e-05 pmole ATP/сек\n",
      "                            : 1.704e+00 pJ/s\n"
     ]
    }
   ],
   "source": [
    "print\\\n",
    "\"\"\"Оценка по Moujahid & D'Anjou: {:.3e} pmole ATP/сек\n",
    "                            : {:.3e} pJ/s\"\"\".format(rATP_bushy2, dH_bushy2)"
   ]
  },
  {
   "cell_type": "code",
   "execution_count": 100,
   "metadata": {
    "collapsed": false
   },
   "outputs": [
    {
     "name": "stdout",
     "output_type": "stream",
     "text": [
      "Оценка по Hasegawa: 3.408e-05 pmole ATP/сек\n",
      "                  : 1.704e+00 pJ/s\n"
     ]
    }
   ],
   "source": [
    "print\\\n",
    "\"\"\"Оценка по Hasegawa: {:.3e} pmole ATP/сек\n",
    "                  : {:.3e} pJ/s\"\"\".format(rATP_bushy3, dH_bushy3)"
   ]
  },
  {
   "cell_type": "markdown",
   "metadata": {},
   "source": [
    "Attwell to Moujahid ratio:"
   ]
  },
  {
   "cell_type": "code",
   "execution_count": 102,
   "metadata": {
    "collapsed": false
   },
   "outputs": [
    {
     "data": {
      "text/plain": [
       "11.077424614117765"
      ]
     },
     "execution_count": 102,
     "metadata": {},
     "output_type": "execute_result"
    }
   ],
   "source": [
    "rATP_bushy/rATP_bushy2"
   ]
  },
  {
   "cell_type": "code",
   "execution_count": null,
   "metadata": {
    "collapsed": true
   },
   "outputs": [],
   "source": []
  },
  {
   "cell_type": "code",
   "execution_count": 107,
   "metadata": {
    "collapsed": false
   },
   "outputs": [
    {
     "name": "stdout",
     "output_type": "stream",
     "text": [
      "True\n",
      "4.39198648708e-05 pmol ATP/s [from jNa]\n",
      "6.58800412848e-05 pmol ATP/s [from jK]\n"
     ]
    }
   ],
   "source": [
    "jk = (bushy.ik + 0.8*seg.ih.i)*soma_area/F # mmol/s\n",
    "jna = (bushy.ina + 0.2*seg.ih.i)*soma_area/F\n",
    "\n",
    "## В текущей модели, получается, что jk=jna, что сложно совместимо\n",
    "## со стехиометрией Na,K-АТФ-азы\n",
    "\n",
    "print allclose(jk,jna)\n",
    "\n",
    "jatp_na = -jna/3\n",
    "jatp_k = jk/2\n",
    "\n",
    "\n",
    "print jatp_na*1e9, 'pmol ATP/s [from jNa]'\n",
    "print jatp_k*1e9, 'pmol ATP/s [from jK]'"
   ]
  },
  {
   "cell_type": "markdown",
   "metadata": {},
   "source": [
    "А это близко к тому, что дает оценка по Moujahid, но не по Attwell (хотя бы по порядку величин). Но почему?.."
   ]
  },
  {
   "cell_type": "code",
   "execution_count": 109,
   "metadata": {
    "collapsed": false
   },
   "outputs": [
    {
     "data": {
      "text/plain": [
       "-6.885156002030318e-05"
      ]
     },
     "execution_count": 109,
     "metadata": {},
     "output_type": "execute_result"
    }
   ],
   "source": [
    "seg.ina"
   ]
  },
  {
   "cell_type": "code",
   "execution_count": null,
   "metadata": {
    "collapsed": true
   },
   "outputs": [],
   "source": []
  }
 ],
 "metadata": {
  "kernelspec": {
   "display_name": "Python 2",
   "language": "python",
   "name": "python2"
  },
  "language_info": {
   "codemirror_mode": {
    "name": "ipython",
    "version": 2
   },
   "file_extension": ".py",
   "mimetype": "text/x-python",
   "name": "python",
   "nbconvert_exporter": "python",
   "pygments_lexer": "ipython2",
   "version": "2.7.11"
  }
 },
 "nbformat": 4,
 "nbformat_minor": 0
}
